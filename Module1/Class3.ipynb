{
 "cells": [
  {
   "cell_type": "markdown",
   "metadata": {
    "application/vnd.databricks.v1+cell": {
     "cellMetadata": {
      "byteLimit": 2048000,
      "rowLimit": 10000
     },
     "inputWidgets": {},
     "nuid": "8425cf7d-1a8b-4435-a2ee-9083ed62089f",
     "showTitle": false,
     "tableResultSettingsMap": {},
     "title": ""
    }
   },
   "source": [
    "**JOINS**"
   ]
  },
  {
   "cell_type": "code",
   "execution_count": 0,
   "metadata": {
    "application/vnd.databricks.v1+cell": {
     "cellMetadata": {
      "byteLimit": 2048000,
      "rowLimit": 10000
     },
     "inputWidgets": {},
     "nuid": "e1b3d46e-6eff-4fa7-beca-59a665b38a6c",
     "showTitle": false,
     "tableResultSettingsMap": {},
     "title": ""
    }
   },
   "outputs": [],
   "source": [
    "--Table Customer\n",
    "CREATE TABLE Customer (\n",
    "    CustomerID INT PRIMARY KEY,\n",
    "    FirstName VARCHAR(50),\n",
    "    LastName VARCHAR(50),\n",
    "    Email VARCHAR(100),\n",
    "    City VARCHAR(50)\n",
    ");\n"
   ]
  },
  {
   "cell_type": "code",
   "execution_count": 0,
   "metadata": {
    "application/vnd.databricks.v1+cell": {
     "cellMetadata": {
      "byteLimit": 2048000,
      "rowLimit": 10000
     },
     "inputWidgets": {},
     "nuid": "0f88d1ec-19d7-44d4-9456-43eddcc67903",
     "showTitle": false,
     "tableResultSettingsMap": {},
     "title": ""
    }
   },
   "outputs": [],
   "source": [
    "INSERT INTO Customer (CustomerID, FirstName, LastName, Email, City) VALUES\n",
    "(1, 'John', 'Doe', 'john.doe@example.com', 'New York'),\n",
    "(2, 'Jane', 'Smith', 'jane.smith@example.com', 'Los Angeles'),\n",
    "(3, 'Robert', 'Brown', 'robert.brown@example.com', 'Chicago'),\n",
    "(4, 'Emily', 'Davis', 'emily.davis@example.com', 'Houston'),\n",
    "(5, 'Michael', 'Wilson', 'michael.wilson@example.com', 'Phoenix');"
   ]
  },
  {
   "cell_type": "code",
   "execution_count": 0,
   "metadata": {
    "application/vnd.databricks.v1+cell": {
     "cellMetadata": {
      "byteLimit": 2048000,
      "rowLimit": 10000
     },
     "inputWidgets": {},
     "nuid": "00a15b57-b090-4aec-898a-f1391708be46",
     "showTitle": false,
     "tableResultSettingsMap": {},
     "title": ""
    }
   },
   "outputs": [],
   "source": [
    "--INSERT INTO Customer (CustomerID, FirstName, LastName, Email, City) VALUES\n",
    "--(2, 'Ron', 'Doe', 'ron.doe@example.com', 'New York')\n",
    "select * from customer\n",
    "--SHOW CREATE TABLE Customer;\n",
    "--UPDATE Customer\n",
    "--SET CustomerID = 6\n",
    "--WHERE CustomerID = 2 and FirstName = 'Ron';\n"
   ]
  },
  {
   "cell_type": "code",
   "execution_count": 0,
   "metadata": {
    "application/vnd.databricks.v1+cell": {
     "cellMetadata": {
      "byteLimit": 2048000,
      "rowLimit": 10000
     },
     "inputWidgets": {},
     "nuid": "778f6f8d-afc9-4187-8334-4dd9a03e96c6",
     "showTitle": false,
     "tableResultSettingsMap": {},
     "title": ""
    }
   },
   "outputs": [],
   "source": [
    "--Orders Table\n",
    "CREATE TABLE Orders (\n",
    "    OrderID INT PRIMARY KEY,\n",
    "    CustomerID INT,\n",
    "    OrderDate DATE,\n",
    "    TotalAmount DECIMAL(10, 2),\n",
    "    FOREIGN KEY (CustomerID) REFERENCES Customer(CustomerID)\n",
    ");\n"
   ]
  },
  {
   "cell_type": "code",
   "execution_count": 0,
   "metadata": {
    "application/vnd.databricks.v1+cell": {
     "cellMetadata": {
      "byteLimit": 2048000,
      "rowLimit": 10000
     },
     "inputWidgets": {},
     "nuid": "a23671fe-89ac-4731-8151-b2f2e5212208",
     "showTitle": false,
     "tableResultSettingsMap": {},
     "title": ""
    }
   },
   "outputs": [],
   "source": [
    "INSERT INTO Orders (OrderID, CustomerID, OrderDate, TotalAmount) VALUES\n",
    "(101, 1, '2023-07-01', 250.50),\n",
    "(102, 2, '2023-07-03', 180.00),\n",
    "(103, 1, '2023-07-04', 75.99),\n",
    "(104, 3, '2023-07-05', 320.00),\n",
    "(105, 4, '2023-07-06', 150.00);\n"
   ]
  },
  {
   "cell_type": "code",
   "execution_count": 0,
   "metadata": {
    "application/vnd.databricks.v1+cell": {
     "cellMetadata": {
      "byteLimit": 2048000,
      "rowLimit": 10000
     },
     "inputWidgets": {},
     "nuid": "58b496cc-854a-44f8-aa6a-4b1667c0d9ae",
     "showTitle": false,
     "tableResultSettingsMap": {},
     "title": ""
    }
   },
   "outputs": [],
   "source": [
    "CREATE TABLE Order_Details (\n",
    "    OrderDetailID INT PRIMARY KEY,\n",
    "    OrderID INT,\n",
    "    ProductName VARCHAR(100),\n",
    "    Quantity INT,\n",
    "    Price DECIMAL(10, 2),\n",
    "    FOREIGN KEY (OrderID) REFERENCES Orders(OrderID)\n",
    ");\n"
   ]
  },
  {
   "cell_type": "code",
   "execution_count": 0,
   "metadata": {
    "application/vnd.databricks.v1+cell": {
     "cellMetadata": {
      "byteLimit": 2048000,
      "rowLimit": 10000
     },
     "inputWidgets": {},
     "nuid": "306d7c85-1c9b-4ad8-bf58-91081bde4c8c",
     "showTitle": false,
     "tableResultSettingsMap": {},
     "title": ""
    }
   },
   "outputs": [],
   "source": [
    "INSERT INTO Order_Details (OrderDetailID, OrderID, ProductName, Quantity, Price) VALUES\n",
    "(1, 101, 'Laptop', 1, 250.50),\n",
    "(2, 102, 'Mouse', 2, 30.00),\n",
    "(3, 102, 'Keyboard', 1, 120.00),\n",
    "(4, 103, 'USB Cable', 3, 25.33),\n",
    "(5, 104, 'Monitor', 2, 160.00),\n",
    "(6, 105, 'Webcam', 1, 150.00);\n"
   ]
  },
  {
   "cell_type": "markdown",
   "metadata": {
    "application/vnd.databricks.v1+cell": {
     "cellMetadata": {},
     "inputWidgets": {},
     "nuid": "079f37a6-a7cc-495c-9e41-97207a8bc889",
     "showTitle": false,
     "tableResultSettingsMap": {},
     "title": ""
    }
   },
   "source": [
    "🔹 1. INNER JOIN – List customers with their orders"
   ]
  },
  {
   "cell_type": "code",
   "execution_count": 0,
   "metadata": {
    "application/vnd.databricks.v1+cell": {
     "cellMetadata": {
      "byteLimit": 2048000,
      "rowLimit": 10000
     },
     "inputWidgets": {},
     "nuid": "add841ba-a68e-4be9-920a-86c7f8148df7",
     "showTitle": false,
     "tableResultSettingsMap": {},
     "title": ""
    }
   },
   "outputs": [],
   "source": [
    "select \n",
    "c.CustomerID,c.FirstName,c.LastName,o.OrderID,o.OrderDate,o.TotalAmount\n",
    " from Customer c INNER JOIN Orders o ON c.CustomerID = o.CustomerID\n"
   ]
  },
  {
   "cell_type": "markdown",
   "metadata": {
    "application/vnd.databricks.v1+cell": {
     "cellMetadata": {},
     "inputWidgets": {},
     "nuid": "fb352c72-ed39-4a12-a95e-bf9ee0a5d5fe",
     "showTitle": false,
     "tableResultSettingsMap": {},
     "title": ""
    }
   },
   "source": [
    " LEFT JOIN – Customers without orders\n",
    " "
   ]
  },
  {
   "cell_type": "code",
   "execution_count": 0,
   "metadata": {
    "application/vnd.databricks.v1+cell": {
     "cellMetadata": {
      "byteLimit": 2048000,
      "rowLimit": 10000
     },
     "inputWidgets": {},
     "nuid": "ea795741-af3e-4d50-9b0e-ef543d35ad1a",
     "showTitle": false,
     "tableResultSettingsMap": {},
     "title": ""
    }
   },
   "outputs": [],
   "source": [
    "select\n",
    "c.CustomerID,\n",
    "c.FirstName,\n",
    "c.LastName,\n",
    "o.OrderID\n",
    "from customer c left join orders o on c.CustomerID = o.CustomerID"
   ]
  },
  {
   "cell_type": "markdown",
   "metadata": {
    "application/vnd.databricks.v1+cell": {
     "cellMetadata": {},
     "inputWidgets": {},
     "nuid": "e21a871e-13b4-43f8-8d50-66aa961407ab",
     "showTitle": false,
     "tableResultSettingsMap": {},
     "title": ""
    }
   },
   "source": [
    "RIGHT JOIN – Orders without matching customers"
   ]
  },
  {
   "cell_type": "code",
   "execution_count": 0,
   "metadata": {
    "application/vnd.databricks.v1+cell": {
     "cellMetadata": {
      "byteLimit": 2048000,
      "rowLimit": 10000
     },
     "inputWidgets": {},
     "nuid": "3e663818-1eef-4f1b-9064-459a63da1732",
     "showTitle": false,
     "tableResultSettingsMap": {},
     "title": ""
    }
   },
   "outputs": [],
   "source": [
    "select\n",
    "o.OrderID,\n",
    "o.OrderDate,\n",
    "o.TotalAmount,\n",
    "c.CustomerID,\n",
    "c.FirstName,\n",
    "c.LastName\n",
    "\n",
    "from orders o right join customer c on o.CustomerID = c.CustomerID"
   ]
  },
  {
   "cell_type": "markdown",
   "metadata": {
    "application/vnd.databricks.v1+cell": {
     "cellMetadata": {},
     "inputWidgets": {},
     "nuid": "92fd0221-1a1e-4ac3-9205-dd6db4986230",
     "showTitle": false,
     "tableResultSettingsMap": {},
     "title": ""
    }
   },
   "source": [
    "FULL OUTER JOIN – All customers and all orders"
   ]
  },
  {
   "cell_type": "code",
   "execution_count": 0,
   "metadata": {
    "application/vnd.databricks.v1+cell": {
     "cellMetadata": {
      "byteLimit": 2048000,
      "rowLimit": 10000
     },
     "inputWidgets": {},
     "nuid": "d2f88d19-a008-4135-8c96-7ee8e2f6112b",
     "showTitle": false,
     "tableResultSettingsMap": {},
     "title": ""
    }
   },
   "outputs": [],
   "source": [
    "select\n",
    "c.CustomerID,\n",
    "c.FirstName,\n",
    "c.LastName,\n",
    "c.Email,\n",
    "o.OrderID,\n",
    "o.OrderDate,\n",
    "o.TotalAmount\n",
    " from customer c full outer join orders o on c.CustomerID = o.CustomerID"
   ]
  },
  {
   "cell_type": "markdown",
   "metadata": {
    "application/vnd.databricks.v1+cell": {
     "cellMetadata": {},
     "inputWidgets": {},
     "nuid": "82a4177c-a75a-4fa5-8571-c5aacdd805f7",
     "showTitle": false,
     "tableResultSettingsMap": {},
     "title": ""
    }
   },
   "source": [
    "INNER JOIN with WHERE – Orders above a certain amount\n",
    "-- Question: Get customer names and order IDs where the total order amount is greater than ₹200.\n"
   ]
  },
  {
   "cell_type": "code",
   "execution_count": 0,
   "metadata": {
    "application/vnd.databricks.v1+cell": {
     "cellMetadata": {
      "byteLimit": 2048000,
      "rowLimit": 10000
     },
     "inputWidgets": {},
     "nuid": "7ad395d1-be72-46c0-9bdc-6727f6eb3ff0",
     "showTitle": false,
     "tableResultSettingsMap": {},
     "title": ""
    }
   },
   "outputs": [],
   "source": [
    "select \n",
    "c.FirstName,\n",
    "c.LastName,\n",
    "o.OrderID,\n",
    "o.TotalAmount\n",
    " from customer c inner join orders o on c.CustomerID = o.CustomerID where o.TotalAmount > 200"
   ]
  },
  {
   "cell_type": "markdown",
   "metadata": {
    "application/vnd.databricks.v1+cell": {
     "cellMetadata": {},
     "inputWidgets": {},
     "nuid": "b1919058-bdb9-4e66-a0ae-b8bde5a49418",
     "showTitle": false,
     "tableResultSettingsMap": {},
     "title": ""
    }
   },
   "source": [
    "JOIN with GROUP BY – Total orders per customer\n",
    "-- Question: Show each customer's full name and the total number of orders they placed.\n"
   ]
  },
  {
   "cell_type": "code",
   "execution_count": 0,
   "metadata": {
    "application/vnd.databricks.v1+cell": {
     "cellMetadata": {
      "byteLimit": 2048000,
      "rowLimit": 10000
     },
     "inputWidgets": {},
     "nuid": "fb3433db-e5ac-494b-8eae-22c7263d7195",
     "showTitle": false,
     "tableResultSettingsMap": {},
     "title": ""
    }
   },
   "outputs": [],
   "source": [
    "SELECT \n",
    "    c.CustomerID,\n",
    "    CONCAT(c.FirstName, ' ', c.LastName) AS FullName,\n",
    "    COUNT(o.OrderID) AS TotalOrders\n",
    "FROM \n",
    "    Customer c\n",
    "LEFT JOIN \n",
    "    Orders o ON c.CustomerID = o.CustomerID\n",
    "GROUP BY \n",
    "    c.CustomerID, c.FirstName, c.LastName;\n"
   ]
  },
  {
   "cell_type": "markdown",
   "metadata": {
    "application/vnd.databricks.v1+cell": {
     "cellMetadata": {},
     "inputWidgets": {},
     "nuid": "52e303e0-5270-402a-9b30-79f9f5e623a1",
     "showTitle": false,
     "tableResultSettingsMap": {},
     "title": ""
    }
   },
   "source": [
    "JOIN across 3 tables – Customer and their order items\n",
    "\n",
    "-- Question: List each customer's name, product name, and quantity they purchased.\n"
   ]
  },
  {
   "cell_type": "code",
   "execution_count": 0,
   "metadata": {
    "application/vnd.databricks.v1+cell": {
     "cellMetadata": {
      "byteLimit": 2048000,
      "rowLimit": 10000
     },
     "inputWidgets": {},
     "nuid": "ffabe58c-051f-42c0-a041-ce0644c5abf8",
     "showTitle": false,
     "tableResultSettingsMap": {},
     "title": ""
    }
   },
   "outputs": [],
   "source": [
    "select\n",
    "concat(c.FirstName,' ',c.lastName),\n",
    "od.ProductName,\n",
    "od.Quantity\n",
    " from customer c inner join orders o on c.CustomerID = o.CustomerID inner join order_details od on o.OrderID = od.OrderID\n"
   ]
  },
  {
   "cell_type": "markdown",
   "metadata": {
    "application/vnd.databricks.v1+cell": {
     "cellMetadata": {},
     "inputWidgets": {},
     "nuid": "495a6643-d42e-4d66-80fe-6b108f02db20",
     "showTitle": false,
     "tableResultSettingsMap": {},
     "title": ""
    }
   },
   "source": [
    "SELF JOIN – Customers in the same city\n",
    "-- Question: Find pairs of customers who live in the same city (but are not the same person).\n"
   ]
  },
  {
   "cell_type": "code",
   "execution_count": 0,
   "metadata": {
    "application/vnd.databricks.v1+cell": {
     "cellMetadata": {
      "byteLimit": 2048000,
      "rowLimit": 10000
     },
     "inputWidgets": {},
     "nuid": "b111ee71-4b8f-4dd6-9a3e-54dc07e102a8",
     "showTitle": false,
     "tableResultSettingsMap": {},
     "title": ""
    }
   },
   "outputs": [],
   "source": [
    "SELECT \n",
    "    c1.CustomerID AS Customer1_ID,\n",
    "    CONCAT(c1.FirstName, ' ', c1.LastName) AS Customer1_Name,\n",
    "    c2.CustomerID AS Customer2_ID,\n",
    "    CONCAT(c2.FirstName, ' ', c2.LastName) AS Customer2_Name,\n",
    "    c1.City\n",
    "FROM \n",
    "    Customer c1\n",
    "JOIN \n",
    "    Customer c2 ON c1.City = c2.City AND c1.CustomerID < c2.CustomerID;\n"
   ]
  },
  {
   "cell_type": "markdown",
   "metadata": {
    "application/vnd.databricks.v1+cell": {
     "cellMetadata": {},
     "inputWidgets": {},
     "nuid": "f63bce80-83c2-4cf8-ae93-c3294ebc136c",
     "showTitle": false,
     "tableResultSettingsMap": {},
     "title": ""
    }
   },
   "source": [
    "DISTINCT with JOIN – Unique products per customer\n",
    "-- Question: Show each customer's name and the distinct product names they've purchased.\n"
   ]
  },
  {
   "cell_type": "code",
   "execution_count": 0,
   "metadata": {
    "application/vnd.databricks.v1+cell": {
     "cellMetadata": {
      "byteLimit": 2048000,
      "rowLimit": 10000
     },
     "inputWidgets": {},
     "nuid": "91050921-0cfe-488d-a767-3e49f6bd45b1",
     "showTitle": false,
     "tableResultSettingsMap": {},
     "title": ""
    }
   },
   "outputs": [],
   "source": [
    "select\n",
    "concat(c.FirstName,' ',c.lastName) AS Name,\n",
    " od.ProductName\n",
    "\n",
    "from customer c  join orders o on c.CustomerID = o.CustomerID  join order_details od on o.OrderID = od.OrderID"
   ]
  },
  {
   "cell_type": "markdown",
   "metadata": {
    "application/vnd.databricks.v1+cell": {
     "cellMetadata": {},
     "inputWidgets": {},
     "nuid": "7d85034c-8ba1-496f-86a7-22d6bbd0e90b",
     "showTitle": false,
     "tableResultSettingsMap": {},
     "title": ""
    }
   },
   "source": [
    "HAVING with JOIN – Customers with more than 1 order,\n",
    "Question: Show customer names who have placed more than 1 order."
   ]
  },
  {
   "cell_type": "code",
   "execution_count": 0,
   "metadata": {
    "application/vnd.databricks.v1+cell": {
     "cellMetadata": {
      "byteLimit": 2048000,
      "rowLimit": 10000
     },
     "inputWidgets": {},
     "nuid": "855ffd3f-94bf-4bf3-872e-655db7ebbcc9",
     "showTitle": false,
     "tableResultSettingsMap": {},
     "title": ""
    }
   },
   "outputs": [],
   "source": [
    "select\n",
    "concat(c.FirstName,' ',c.lastName) AS Name,\n",
    "count(od.OrderID)\n",
    "from customer c  join orders o on c.CustomerID = o.CustomerID  join order_details od on o.OrderID = od.OrderID group by c.CustomerID, c.FirstName, c.LastName having count(od.OrderID) > 1"
   ]
  }
 ],
 "metadata": {
  "application/vnd.databricks.v1+notebook": {
   "computePreferences": null,
   "dashboards": [],
   "environmentMetadata": {
    "base_environment": "",
    "environment_version": "2"
   },
   "inputWidgetPreferences": null,
   "language": "sql",
   "notebookMetadata": {
    "pythonIndentUnit": 4
   },
   "notebookName": "Class3",
   "widgets": {}
  },
  "language_info": {
   "name": "sql"
  }
 },
 "nbformat": 4,
 "nbformat_minor": 0
}
