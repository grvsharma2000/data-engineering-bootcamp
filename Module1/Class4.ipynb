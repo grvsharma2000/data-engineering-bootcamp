{
 "cells": [
  {
   "cell_type": "markdown",
   "metadata": {
    "application/vnd.databricks.v1+cell": {
     "cellMetadata": {},
     "inputWidgets": {},
     "nuid": "fe43579b-d900-40af-8370-68408c6aa2e8",
     "showTitle": false,
     "tableResultSettingsMap": {},
     "title": ""
    }
   },
   "source": [
    "SubQueries,CTE's,CASES"
   ]
  },
  {
   "cell_type": "code",
   "execution_count": 0,
   "metadata": {
    "application/vnd.databricks.v1+cell": {
     "cellMetadata": {
      "byteLimit": 2048000,
      "rowLimit": 10000
     },
     "inputWidgets": {},
     "nuid": "c536b63f-c752-4178-8193-2161446da654",
     "showTitle": false,
     "tableResultSettingsMap": {},
     "title": ""
    }
   },
   "outputs": [],
   "source": [
    "CREATE TABLE Customer (\n",
    "    CustomerID INT PRIMARY KEY,\n",
    "    FirstName VARCHAR(50),\n",
    "    LastName VARCHAR(50),\n",
    "    Email VARCHAR(100),\n",
    "    City VARCHAR(50)\n",
    ");\n",
    "\n",
    "INSERT INTO Customer (CustomerID, FirstName, LastName, Email, City) VALUES\n",
    "(1, 'John', 'Doe', 'john.doe@example.com', 'New York'),\n",
    "(2, 'Jane', 'Smith', 'jane.smith@example.com', 'Los Angeles'),\n",
    "(3, 'Robert', 'Brown', 'robert.brown@example.com', 'New York'),\n",
    "(4, 'Emily', 'Davis', 'emily.davis@example.com', 'Houston'),\n",
    "(5, 'Michael', 'Wilson', 'michael.wilson@example.com', 'Chicago');\n"
   ]
  },
  {
   "cell_type": "code",
   "execution_count": 0,
   "metadata": {
    "application/vnd.databricks.v1+cell": {
     "cellMetadata": {
      "byteLimit": 2048000,
      "rowLimit": 10000
     },
     "inputWidgets": {},
     "nuid": "026048d8-7602-4670-94e9-772491843c35",
     "showTitle": false,
     "tableResultSettingsMap": {},
     "title": ""
    }
   },
   "outputs": [],
   "source": [
    "select * from Order_Details"
   ]
  },
  {
   "cell_type": "code",
   "execution_count": 0,
   "metadata": {
    "application/vnd.databricks.v1+cell": {
     "cellMetadata": {},
     "inputWidgets": {},
     "nuid": "f8cbade2-5e63-4b05-8fb9-bfb6818ce6ba",
     "showTitle": false,
     "tableResultSettingsMap": {},
     "title": ""
    }
   },
   "outputs": [],
   "source": [
    "CREATE TABLE Orders (\n",
    "    OrderID INT PRIMARY KEY,\n",
    "    CustomerID INT,\n",
    "    OrderDate DATE,\n",
    "    TotalAmount DECIMAL(10, 2),\n",
    "    FOREIGN KEY (CustomerID) REFERENCES Customer(CustomerID)\n",
    ");\n",
    "\n",
    "INSERT INTO Orders (OrderID, CustomerID, OrderDate, TotalAmount) VALUES\n",
    "(101, 1, '2023-07-01', 250.50),\n",
    "(102, 2, '2023-07-03', 180.00),\n",
    "(103, 1, '2023-07-04', 75.99),\n",
    "(104, 3, '2023-07-05', 320.00),\n",
    "(105, 4, '2023-07-06', 150.00),\n",
    "(106, 1, '2023-07-07', 90.00),\n",
    "(107, 3, '2023-07-08', 420.00);\n"
   ]
  },
  {
   "cell_type": "code",
   "execution_count": 0,
   "metadata": {
    "application/vnd.databricks.v1+cell": {
     "cellMetadata": {},
     "inputWidgets": {},
     "nuid": "83017677-da71-4eea-b478-fce898579505",
     "showTitle": false,
     "tableResultSettingsMap": {},
     "title": ""
    }
   },
   "outputs": [],
   "source": [
    "CREATE TABLE Order_Details (\n",
    "    OrderDetailID INT PRIMARY KEY,\n",
    "    OrderID INT,\n",
    "    ProductName VARCHAR(100),\n",
    "    Quantity INT,\n",
    "    Price DECIMAL(10, 2),\n",
    "    FOREIGN KEY (OrderID) REFERENCES Orders(OrderID)\n",
    ");\n",
    "\n",
    "INSERT INTO Order_Details (OrderDetailID, OrderID, ProductName, Quantity, Price) VALUES\n",
    "(1, 101, 'Laptop', 1, 250.50),\n",
    "(2, 102, 'Mouse', 2, 30.00),\n",
    "(3, 102, 'Keyboard', 1, 120.00),\n",
    "(4, 103, 'USB Cable', 3, 25.33),\n",
    "(5, 104, 'Monitor', 2, 160.00),\n",
    "(6, 105, 'Webcam', 1, 150.00),\n",
    "(7, 106, 'Notebook', 2, 45.00),\n",
    "(8, 107, 'Tablet', 1, 420.00);\n"
   ]
  },
  {
   "cell_type": "markdown",
   "metadata": {
    "application/vnd.databricks.v1+cell": {
     "cellMetadata": {},
     "inputWidgets": {},
     "nuid": "539777dd-3a83-48df-9dbd-38ec338c184b",
     "showTitle": false,
     "tableResultSettingsMap": {},
     "title": ""
    }
   },
   "source": [
    "List customers who have placed at least one order with an amount greater than ₹200."
   ]
  },
  {
   "cell_type": "code",
   "execution_count": 0,
   "metadata": {
    "application/vnd.databricks.v1+cell": {
     "cellMetadata": {
      "byteLimit": 2048000,
      "rowLimit": 10000
     },
     "inputWidgets": {},
     "nuid": "cc4324f6-2d23-4192-9230-ee51b949f64a",
     "showTitle": false,
     "tableResultSettingsMap": {},
     "title": ""
    }
   },
   "outputs": [],
   "source": [
    "select distinct CustomerID,FirstName\n",
    "from customer \n",
    "where\n",
    "CustomerID IN(select CustomerID from orders where TotalAmount > 200)\n"
   ]
  },
  {
   "cell_type": "markdown",
   "metadata": {
    "application/vnd.databricks.v1+cell": {
     "cellMetadata": {},
     "inputWidgets": {},
     "nuid": "c0065498-3421-4c14-837a-9c2c685c0091",
     "showTitle": false,
     "tableResultSettingsMap": {},
     "title": ""
    }
   },
   "source": [
    "Show all orders placed by customers who live in New York."
   ]
  },
  {
   "cell_type": "code",
   "execution_count": 0,
   "metadata": {
    "application/vnd.databricks.v1+cell": {
     "cellMetadata": {
      "byteLimit": 2048000,
      "rowLimit": 10000
     },
     "inputWidgets": {},
     "nuid": "e862dbab-8664-4334-bc09-fefdafbd97ec",
     "showTitle": false,
     "tableResultSettingsMap": {},
     "title": ""
    }
   },
   "outputs": [],
   "source": [
    "select  *\n",
    "from orders \n",
    "where CustomerID IN (select CustomerID from customer where City = 'New York')"
   ]
  },
  {
   "cell_type": "code",
   "execution_count": 0,
   "metadata": {
    "application/vnd.databricks.v1+cell": {
     "cellMetadata": {
      "byteLimit": 2048000,
      "rowLimit": 10000
     },
     "inputWidgets": {},
     "nuid": "c1843bcc-49a7-4f46-888e-21b7ebf32bb2",
     "showTitle": false,
     "tableResultSettingsMap": {},
     "title": ""
    }
   },
   "outputs": [],
   "source": [
    "--select *from customer ;\n",
    "select *from orders;\n",
    "--select *from Order_Details;"
   ]
  },
  {
   "cell_type": "markdown",
   "metadata": {
    "application/vnd.databricks.v1+cell": {
     "cellMetadata": {},
     "inputWidgets": {},
     "nuid": "a3402449-52ca-4ee2-b79f-f9f4cd94637b",
     "showTitle": false,
     "tableResultSettingsMap": {},
     "title": ""
    }
   },
   "source": [
    "Get the customer(s) who placed the most expensive order."
   ]
  },
  {
   "cell_type": "code",
   "execution_count": 0,
   "metadata": {
    "application/vnd.databricks.v1+cell": {
     "cellMetadata": {
      "byteLimit": 2048000,
      "rowLimit": 10000
     },
     "inputWidgets": {},
     "nuid": "9e1ff332-7def-47b9-9136-9dce19abada5",
     "showTitle": false,
     "tableResultSettingsMap": {},
     "title": ""
    }
   },
   "outputs": [],
   "source": [
    "select \n",
    "concat(FirstName,' ',lastName) as Name,od.ProductName\n",
    " from customer c join orders o on c.CustomerID = o.CustomerID join order_details od on o.OrderID = od.OrderID where od.Price = (select max(Price) from Order_Details)"
   ]
  },
  {
   "cell_type": "markdown",
   "metadata": {
    "application/vnd.databricks.v1+cell": {
     "cellMetadata": {},
     "inputWidgets": {},
     "nuid": "51abcdca-c0fa-4b2c-a693-d886313b59e1",
     "showTitle": false,
     "tableResultSettingsMap": {},
     "title": ""
    }
   },
   "source": [
    "For each order, display the order ID and indicate if its amount is above the customer’s average order amount."
   ]
  },
  {
   "cell_type": "code",
   "execution_count": 0,
   "metadata": {
    "application/vnd.databricks.v1+cell": {
     "cellMetadata": {
      "byteLimit": 2048000,
      "rowLimit": 10000
     },
     "inputWidgets": {},
     "nuid": "8a0beaf4-c26f-48af-80bb-a4033966c319",
     "showTitle": false,
     "tableResultSettingsMap": {},
     "title": ""
    }
   },
   "outputs": [],
   "source": [
    "SELECT \n",
    "    o.OrderID,\n",
    "    o.CustomerID,\n",
    "    o.TotalAmount,\n",
    "    CASE \n",
    "        WHEN o.TotalAmount > (\n",
    "            SELECT AVG(o2.TotalAmount)\n",
    "            FROM Orders o2\n",
    "            WHERE o2.CustomerID = o.CustomerID\n",
    "        ) THEN 'Yes'\n",
    "        ELSE 'No'\n",
    "    END AS AboveAverage\n",
    "FROM \n",
    "    Orders o;\n"
   ]
  },
  {
   "cell_type": "markdown",
   "metadata": {
    "application/vnd.databricks.v1+cell": {
     "cellMetadata": {},
     "inputWidgets": {},
     "nuid": "91640ce8-ca2e-4a2f-8e9f-b999f70e6a3c",
     "showTitle": false,
     "tableResultSettingsMap": {},
     "title": ""
    }
   },
   "source": [
    "CTEs – Cleaner and Modular Queries\n"
   ]
  },
  {
   "cell_type": "markdown",
   "metadata": {
    "application/vnd.databricks.v1+cell": {
     "cellMetadata": {},
     "inputWidgets": {},
     "nuid": "6f1da5b4-db0c-4f32-9661-e5a7eea9a4e9",
     "showTitle": false,
     "tableResultSettingsMap": {},
     "title": ""
    }
   },
   "source": [
    "Use a CTE to calculate total order amount per customer and then select only those who spent more than ₹200."
   ]
  },
  {
   "cell_type": "code",
   "execution_count": 0,
   "metadata": {
    "application/vnd.databricks.v1+cell": {
     "cellMetadata": {
      "byteLimit": 2048000,
      "rowLimit": 10000
     },
     "inputWidgets": {},
     "nuid": "58d4ebe2-abd8-462a-904b-bf284e40baf9",
     "showTitle": false,
     "tableResultSettingsMap": {},
     "title": ""
    }
   },
   "outputs": [],
   "source": [
    "With total_order AS (\n",
    "select \n",
    "    CustomerID,\n",
    "    sum(TotalAmount) as total\n",
    " from orders  group by CustomerID\n",
    ")\n",
    "select ot.CustomerID,ot.total\n",
    "from total_order ot join customer c on ot.CustomerID = c.CustomerID where ot.total > 200"
   ]
  },
  {
   "cell_type": "markdown",
   "metadata": {
    "application/vnd.databricks.v1+cell": {
     "cellMetadata": {},
     "inputWidgets": {},
     "nuid": "2057953f-6241-4c53-b5d5-efa16e5500b5",
     "showTitle": false,
     "tableResultSettingsMap": {},
     "title": ""
    }
   },
   "source": [
    "Generate numbers from 1 to 10 using a recursive CTE.\n",
    "\n"
   ]
  },
  {
   "cell_type": "code",
   "execution_count": 0,
   "metadata": {
    "application/vnd.databricks.v1+cell": {
     "cellMetadata": {
      "byteLimit": 2048000,
      "rowLimit": 10000
     },
     "inputWidgets": {},
     "nuid": "19ee53db-8c55-4d80-8abe-44b7941536eb",
     "showTitle": false,
     "tableResultSettingsMap": {},
     "title": ""
    }
   },
   "outputs": [],
   "source": [
    "WITH RECURSIVE Numbers AS (\n",
    "    SELECT 1 AS n\n",
    "    UNION ALL\n",
    "    SELECT n + 1\n",
    "    FROM Numbers\n",
    "    WHERE n < 10\n",
    ")\n",
    "SELECT n\n",
    "FROM Numbers;\n",
    "---Recursive CTEs not supportedin databricks"
   ]
  },
  {
   "cell_type": "markdown",
   "metadata": {
    "application/vnd.databricks.v1+cell": {
     "cellMetadata": {},
     "inputWidgets": {},
     "nuid": "d6016bc3-b98c-40a9-8228-f96eb9f93c69",
     "showTitle": false,
     "tableResultSettingsMap": {},
     "title": ""
    }
   },
   "source": [
    "First CTE: total orders per customer.\n",
    "Second CTE: customers with more than 1 orders.\n",
    "Final output: names of such customers."
   ]
  },
  {
   "cell_type": "code",
   "execution_count": 0,
   "metadata": {
    "application/vnd.databricks.v1+cell": {
     "cellMetadata": {
      "byteLimit": 2048000,
      "rowLimit": 10000
     },
     "inputWidgets": {},
     "nuid": "4e15fda1-bc93-4f04-b8ab-fe97739fcb5f",
     "showTitle": false,
     "tableResultSettingsMap": {},
     "title": ""
    }
   },
   "outputs": [],
   "source": [
    "WITH Total_orders AS (\n",
    "select \n",
    "    concat(c.FirstName,' ',c.lastName) as Name, count(*) as COUNT from orders o join workspace.default.customer c ON o.CustomerID = c.CustomerID GROUP BY c.CustomerID,concat(c.FirstName,' ',c.lastName)\n",
    "),\n",
    "\n",
    " ORDER_MORE_THAN_1 AS (\n",
    " SELECT Name FROM Total_orders WHERE  COUNT> 1\n",
    ")\n",
    "\n",
    "SELECT * FROM ORDER_MORE_THAN_1"
   ]
  },
  {
   "cell_type": "markdown",
   "metadata": {
    "application/vnd.databricks.v1+cell": {
     "cellMetadata": {},
     "inputWidgets": {},
     "nuid": "8b624c25-2d89-4822-98e5-80b8e5170f5c",
     "showTitle": false,
     "tableResultSettingsMap": {},
     "title": ""
    }
   },
   "source": [
    "CASE Statements – Logic Inside SQL"
   ]
  },
  {
   "cell_type": "markdown",
   "metadata": {
    "application/vnd.databricks.v1+cell": {
     "cellMetadata": {},
     "inputWidgets": {},
     "nuid": "b97675e4-a4c5-4ccb-8586-b0fdc4c82dc2",
     "showTitle": false,
     "tableResultSettingsMap": {},
     "title": ""
    }
   },
   "source": [
    "Use CASE to show whether an order is labeled as 'High', 'Medium', or 'Low' based on TotalAmount"
   ]
  },
  {
   "cell_type": "code",
   "execution_count": 0,
   "metadata": {
    "application/vnd.databricks.v1+cell": {
     "cellMetadata": {
      "byteLimit": 2048000,
      "rowLimit": 10000
     },
     "inputWidgets": {},
     "nuid": "5d96f9db-651c-43d0-a139-6d8c99663358",
     "showTitle": false,
     "tableResultSettingsMap": {},
     "title": ""
    }
   },
   "outputs": [],
   "source": [
    "select \n",
    "OrderID, \n",
    " CASE\n",
    " when TotalAmount > 250 then 'High'\n",
    " when TotalAmount > 150 then 'Medium'\n",
    " else 'Low'\n",
    "END AS Amount\n",
    " from orders"
   ]
  },
  {
   "cell_type": "markdown",
   "metadata": {
    "application/vnd.databricks.v1+cell": {
     "cellMetadata": {},
     "inputWidgets": {},
     "nuid": "c7723ad2-1799-4f3e-bf16-44291fdd4743",
     "showTitle": false,
     "tableResultSettingsMap": {},
     "title": ""
    }
   },
   "source": [
    "Display each customer’s name and tag them as 'Metro' or 'Non-Metro' depending on their city."
   ]
  },
  {
   "cell_type": "code",
   "execution_count": 0,
   "metadata": {
    "application/vnd.databricks.v1+cell": {
     "cellMetadata": {
      "byteLimit": 2048000,
      "rowLimit": 10000
     },
     "inputWidgets": {},
     "nuid": "7985a29c-ab0a-46ee-a6ed-68ad85927de0",
     "showTitle": false,
     "tableResultSettingsMap": {},
     "title": ""
    }
   },
   "outputs": [],
   "source": [
    "select city,\n",
    "case \n",
    "when city = 'New York' then 'Metro'\n",
    "when city = 'Los Angeles' then 'Metro'\n",
    "when city = 'Chicago' then 'Metro'\n",
    "when city = 'Houston' then 'Non-Metro'\n",
    "when city = 'Phoenix' then 'Non-Metro'\n",
    "END AS CITYSTATUS\n",
    "from customer"
   ]
  },
  {
   "cell_type": "markdown",
   "metadata": {
    "application/vnd.databricks.v1+cell": {
     "cellMetadata": {},
     "inputWidgets": {},
     "nuid": "9c87bde8-25c1-4fd8-86d2-84bcc2d0bac9",
     "showTitle": false,
     "tableResultSettingsMap": {},
     "title": ""
    }
   },
   "source": [
    "Use CASE to return:\n",
    "\n",
    "'Frequent Buyer' if a customer has more than 1 orders\n",
    "\n",
    "'One-Time Buyer' if exactly 1\n",
    "\n",
    "'Inactive' if none"
   ]
  },
  {
   "cell_type": "code",
   "execution_count": 0,
   "metadata": {
    "application/vnd.databricks.v1+cell": {
     "cellMetadata": {
      "byteLimit": 2048000,
      "rowLimit": 10000
     },
     "inputWidgets": {},
     "nuid": "cffdc0e8-260b-4b11-8cf3-104883cbf748",
     "showTitle": false,
     "tableResultSettingsMap": {},
     "title": ""
    }
   },
   "outputs": [],
   "source": [
    "SELECT \n",
    "    c.CustomerID,\n",
    "    CONCAT(c.FirstName, ' ', c.LastName) AS CustomerName,\n",
    "    COUNT(o.OrderID) AS OrderCount,\n",
    "    CASE \n",
    "        WHEN COUNT(o.OrderID) > 1 THEN 'Frequent Buyer'\n",
    "        WHEN COUNT(o.OrderID) = 1 THEN 'One-Time Buyer'\n",
    "        WHEN COUNT(o.OrderID) = 0 THEN 'Inactive'\n",
    "        \n",
    "    END AS BuyerType\n",
    "FROM \n",
    "    Customer c\n",
    "LEFT JOIN \n",
    "    Orders o ON c.CustomerID = o.CustomerID\n",
    "GROUP BY \n",
    "    c.CustomerID, c.FirstName, c.LastName;\n"
   ]
  }
 ],
 "metadata": {
  "application/vnd.databricks.v1+notebook": {
   "computePreferences": null,
   "dashboards": [],
   "environmentMetadata": {
    "base_environment": "",
    "environment_version": "2"
   },
   "inputWidgetPreferences": null,
   "language": "sql",
   "notebookMetadata": {
    "pythonIndentUnit": 4
   },
   "notebookName": "Class4",
   "widgets": {}
  },
  "language_info": {
   "name": "sql"
  }
 },
 "nbformat": 4,
 "nbformat_minor": 0
}
