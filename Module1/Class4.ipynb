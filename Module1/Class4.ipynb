{
 "cells": [
  {
   "cell_type": "markdown",
   "metadata": {
    "application/vnd.databricks.v1+cell": {
     "cellMetadata": {},
     "inputWidgets": {},
     "nuid": "fe43579b-d900-40af-8370-68408c6aa2e8",
     "showTitle": false,
     "tableResultSettingsMap": {},
     "title": ""
    }
   },
   "source": [
    "SubQueries,CTE's,CASES"
   ]
  },
  {
   "cell_type": "code",
   "execution_count": 0,
   "metadata": {
    "application/vnd.databricks.v1+cell": {
     "cellMetadata": {
      "byteLimit": 2048000,
      "rowLimit": 10000
     },
     "inputWidgets": {},
     "nuid": "c536b63f-c752-4178-8193-2161446da654",
     "showTitle": false,
     "tableResultSettingsMap": {},
     "title": ""
    }
   },
   "outputs": [],
   "source": [
    "CREATE TABLE Customer (\n",
    "    CustomerID INT PRIMARY KEY,\n",
    "    FirstName VARCHAR(50),\n",
    "    LastName VARCHAR(50),\n",
    "    Email VARCHAR(100),\n",
    "    City VARCHAR(50)\n",
    ");\n",
    "\n",
    "INSERT INTO Customer (CustomerID, FirstName, LastName, Email, City) VALUES\n",
    "(1, 'John', 'Doe', 'john.doe@example.com', 'New York'),\n",
    "(2, 'Jane', 'Smith', 'jane.smith@example.com', 'Los Angeles'),\n",
    "(3, 'Robert', 'Brown', 'robert.brown@example.com', 'New York'),\n",
    "(4, 'Emily', 'Davis', 'emily.davis@example.com', 'Houston'),\n",
    "(5, 'Michael', 'Wilson', 'michael.wilson@example.com', 'Chicago');\n"
   ]
  },
  {
   "cell_type": "code",
   "execution_count": 0,
   "metadata": {
    "application/vnd.databricks.v1+cell": {
     "cellMetadata": {
      "byteLimit": 2048000,
      "rowLimit": 10000
     },
     "inputWidgets": {},
     "nuid": "026048d8-7602-4670-94e9-772491843c35",
     "showTitle": false,
     "tableResultSettingsMap": {},
     "title": ""
    }
   },
   "outputs": [],
   "source": [
    "select * from Order_Details"
   ]
  },
  {
   "cell_type": "code",
   "execution_count": 0,
   "metadata": {
    "application/vnd.databricks.v1+cell": {
     "cellMetadata": {},
     "inputWidgets": {},
     "nuid": "f8cbade2-5e63-4b05-8fb9-bfb6818ce6ba",
     "showTitle": false,
     "tableResultSettingsMap": {},
     "title": ""
    }
   },
   "outputs": [],
   "source": [
    "CREATE TABLE Orders (\n",
    "    OrderID INT PRIMARY KEY,\n",
    "    CustomerID INT,\n",
    "    OrderDate DATE,\n",
    "    TotalAmount DECIMAL(10, 2),\n",
    "    FOREIGN KEY (CustomerID) REFERENCES Customer(CustomerID)\n",
    ");\n",
    "\n",
    "INSERT INTO Orders (OrderID, CustomerID, OrderDate, TotalAmount) VALUES\n",
    "(101, 1, '2023-07-01', 250.50),\n",
    "(102, 2, '2023-07-03', 180.00),\n",
    "(103, 1, '2023-07-04', 75.99),\n",
    "(104, 3, '2023-07-05', 320.00),\n",
    "(105, 4, '2023-07-06', 150.00),\n",
    "(106, 1, '2023-07-07', 90.00),\n",
    "(107, 3, '2023-07-08', 420.00);\n"
   ]
  },
  {
   "cell_type": "code",
   "execution_count": 0,
   "metadata": {
    "application/vnd.databricks.v1+cell": {
     "cellMetadata": {},
     "inputWidgets": {},
     "nuid": "83017677-da71-4eea-b478-fce898579505",
     "showTitle": false,
     "tableResultSettingsMap": {},
     "title": ""
    }
   },
   "outputs": [],
   "source": [
    "CREATE TABLE Order_Details (\n",
    "    OrderDetailID INT PRIMARY KEY,\n",
    "    OrderID INT,\n",
    "    ProductName VARCHAR(100),\n",
    "    Quantity INT,\n",
    "    Price DECIMAL(10, 2),\n",
    "    FOREIGN KEY (OrderID) REFERENCES Orders(OrderID)\n",
    ");\n",
    "\n",
    "INSERT INTO Order_Details (OrderDetailID, OrderID, ProductName, Quantity, Price) VALUES\n",
    "(1, 101, 'Laptop', 1, 250.50),\n",
    "(2, 102, 'Mouse', 2, 30.00),\n",
    "(3, 102, 'Keyboard', 1, 120.00),\n",
    "(4, 103, 'USB Cable', 3, 25.33),\n",
    "(5, 104, 'Monitor', 2, 160.00),\n",
    "(6, 105, 'Webcam', 1, 150.00),\n",
    "(7, 106, 'Notebook', 2, 45.00),\n",
    "(8, 107, 'Tablet', 1, 420.00);\n"
   ]
  },
  {
   "cell_type": "markdown",
   "metadata": {
    "application/vnd.databricks.v1+cell": {
     "cellMetadata": {},
     "inputWidgets": {},
     "nuid": "539777dd-3a83-48df-9dbd-38ec338c184b",
     "showTitle": false,
     "tableResultSettingsMap": {},
     "title": ""
    }
   },
   "source": [
    "List customers who have placed at least one order with an amount greater than ₹200."
   ]
  },
  {
   "cell_type": "code",
   "execution_count": 0,
   "metadata": {
    "application/vnd.databricks.v1+cell": {
     "cellMetadata": {
      "byteLimit": 2048000,
      "rowLimit": 10000
     },
     "inputWidgets": {},
     "nuid": "cc4324f6-2d23-4192-9230-ee51b949f64a",
     "showTitle": false,
     "tableResultSettingsMap": {},
     "title": ""
    }
   },
   "outputs": [],
   "source": [
    "select distinct CustomerID,FirstName\n",
    "from customer \n",
    "where\n",
    "CustomerID IN(select CustomerID from orders where TotalAmount > 200)\n"
   ]
  },
  {
   "cell_type": "markdown",
   "metadata": {
    "application/vnd.databricks.v1+cell": {
     "cellMetadata": {},
     "inputWidgets": {},
     "nuid": "c0065498-3421-4c14-837a-9c2c685c0091",
     "showTitle": false,
     "tableResultSettingsMap": {},
     "title": ""
    }
   },
   "source": [
    "Show all orders placed by customers who live in New York."
   ]
  },
  {
   "cell_type": "code",
   "execution_count": 0,
   "metadata": {
    "application/vnd.databricks.v1+cell": {
     "cellMetadata": {
      "byteLimit": 2048000,
      "rowLimit": 10000
     },
     "inputWidgets": {},
     "nuid": "e862dbab-8664-4334-bc09-fefdafbd97ec",
     "showTitle": false,
     "tableResultSettingsMap": {},
     "title": ""
    }
   },
   "outputs": [],
   "source": [
    "select  *\n",
    "from orders \n",
    "where CustomerID IN (select CustomerID from customer where City = 'New York')"
   ]
  },
  {
   "cell_type": "code",
   "execution_count": 0,
   "metadata": {
    "application/vnd.databricks.v1+cell": {
     "cellMetadata": {
      "byteLimit": 2048000,
      "rowLimit": 10000
     },
     "inputWidgets": {},
     "nuid": "c1843bcc-49a7-4f46-888e-21b7ebf32bb2",
     "showTitle": false,
     "tableResultSettingsMap": {},
     "title": ""
    }
   },
   "outputs": [],
   "source": [
    "--select *from customer where City='New York';\n",
    "select *from orders;\n",
    "--select *from Order_Details;"
   ]
  },
  {
   "cell_type": "markdown",
   "metadata": {
    "application/vnd.databricks.v1+cell": {
     "cellMetadata": {},
     "inputWidgets": {},
     "nuid": "a3402449-52ca-4ee2-b79f-f9f4cd94637b",
     "showTitle": false,
     "tableResultSettingsMap": {},
     "title": ""
    }
   },
   "source": [
    "Get the customer(s) who placed the most expensive order."
   ]
  },
  {
   "cell_type": "code",
   "execution_count": 0,
   "metadata": {
    "application/vnd.databricks.v1+cell": {
     "cellMetadata": {
      "byteLimit": 2048000,
      "rowLimit": 10000
     },
     "inputWidgets": {},
     "nuid": "9e1ff332-7def-47b9-9136-9dce19abada5",
     "showTitle": false,
     "tableResultSettingsMap": {},
     "title": ""
    }
   },
   "outputs": [],
   "source": [
    "select \n",
    "concat(FirstName,' ',lastName) as Name,od.ProductName\n",
    " from customer c join orders o on c.CustomerID = o.CustomerID join order_details od on o.OrderID = od.OrderID where od.Price = (select max(Price) from Order_Details)"
   ]
  },
  {
   "cell_type": "markdown",
   "metadata": {
    "application/vnd.databricks.v1+cell": {
     "cellMetadata": {},
     "inputWidgets": {},
     "nuid": "51abcdca-c0fa-4b2c-a693-d886313b59e1",
     "showTitle": false,
     "tableResultSettingsMap": {},
     "title": ""
    }
   },
   "source": [
    "For each order, display the order ID and indicate if its amount is above the customer’s average order amount."
   ]
  },
  {
   "cell_type": "code",
   "execution_count": 0,
   "metadata": {
    "application/vnd.databricks.v1+cell": {
     "cellMetadata": {
      "byteLimit": 2048000,
      "rowLimit": 10000
     },
     "inputWidgets": {},
     "nuid": "8a0beaf4-c26f-48af-80bb-a4033966c319",
     "showTitle": false,
     "tableResultSettingsMap": {},
     "title": ""
    }
   },
   "outputs": [],
   "source": [
    "select \n",
    "OrderID\n",
    " from orders where TotalAmount = (select avg(TotalAmount) from orders where )"
   ]
  }
 ],
 "metadata": {
  "application/vnd.databricks.v1+notebook": {
   "computePreferences": null,
   "dashboards": [],
   "environmentMetadata": {
    "base_environment": "",
    "environment_version": "2"
   },
   "inputWidgetPreferences": null,
   "language": "sql",
   "notebookMetadata": {
    "pythonIndentUnit": 4
   },
   "notebookName": "Class4",
   "widgets": {}
  },
  "language_info": {
   "name": "sql"
  }
 },
 "nbformat": 4,
 "nbformat_minor": 0
}
