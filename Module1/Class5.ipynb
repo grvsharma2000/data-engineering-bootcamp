{
 "cells": [
  {
   "cell_type": "markdown",
   "metadata": {
    "application/vnd.databricks.v1+cell": {
     "cellMetadata": {},
     "inputWidgets": {},
     "nuid": "ceb6a688-2122-4def-906a-3e5d4865f04d",
     "showTitle": false,
     "tableResultSettingsMap": {},
     "title": ""
    }
   },
   "source": [
    "ROW_NUMBER()\n"
   ]
  },
  {
   "cell_type": "markdown",
   "metadata": {
    "application/vnd.databricks.v1+cell": {
     "cellMetadata": {},
     "inputWidgets": {},
     "nuid": "dd49d252-03a3-4fc4-8a4c-cdcbdf538875",
     "showTitle": false,
     "tableResultSettingsMap": {},
     "title": ""
    }
   },
   "source": [
    "List all orders with a row number assigned for each customer's orders, ordered by order date.\n",
    "→ Helps identify the first, second, third orders etc.\n",
    "\n"
   ]
  },
  {
   "cell_type": "code",
   "execution_count": 0,
   "metadata": {
    "application/vnd.databricks.v1+cell": {
     "cellMetadata": {
      "byteLimit": 2048000,
      "rowLimit": 10000
     },
     "inputWidgets": {},
     "nuid": "08a602d0-2ae8-43c3-89b6-8fb171039c8d",
     "showTitle": false,
     "tableResultSettingsMap": {},
     "title": ""
    }
   },
   "outputs": [],
   "source": [
    "--Select * from orders\n",
    "\n",
    "select OrderID, CustomerID, OrderDate, TotalAmount, row_number() over (--Partition by OrderDate \n",
    "order by OrderDate) as rn from orders"
   ]
  },
  {
   "cell_type": "code",
   "execution_count": 0,
   "metadata": {
    "application/vnd.databricks.v1+cell": {
     "cellMetadata": {
      "byteLimit": 2048000,
      "rowLimit": 10000
     },
     "inputWidgets": {},
     "nuid": "22c331e9-7d66-4a32-9ee1-38b41c2feede",
     "showTitle": false,
     "tableResultSettingsMap": {},
     "title": ""
    }
   },
   "outputs": [],
   "source": [
    "SELECT \n",
    "    o.OrderID,\n",
    "    o.CustomerID,\n",
    "    c.FirstName || ' ' || c.LastName AS customer_name,\n",
    "    o.OrderDate,\n",
    "    o.TotalAmount,\n",
    "    ROW_NUMBER() OVER (\n",
    "        PARTITION BY o.CustomerID \n",
    "        ORDER BY o.OrderDate\n",
    "    ) AS order_rank\n",
    "FROM \n",
    "    Orders o\n",
    "JOIN \n",
    "    customer c ON o.CustomerID = c.CustomerID\n",
    "ORDER BY \n",
    "    o.CustomerID, order_rank;\n"
   ]
  },
  {
   "cell_type": "markdown",
   "metadata": {
    "application/vnd.databricks.v1+cell": {
     "cellMetadata": {},
     "inputWidgets": {},
     "nuid": "70ebc0dc-500f-478a-84b5-89cebba53991",
     "showTitle": false,
     "tableResultSettingsMap": {},
     "title": ""
    }
   },
   "source": []
  },
  {
   "cell_type": "markdown",
   "metadata": {
    "application/vnd.databricks.v1+cell": {
     "cellMetadata": {},
     "inputWidgets": {},
     "nuid": "9c9482bc-e516-427a-a6e0-4c54c0e97e22",
     "showTitle": false,
     "tableResultSettingsMap": {},
     "title": ""
    }
   },
   "source": [
    "Retrieve the most recent order for each customer.\n",
    "→ Use ROW_NUMBER() and filter for row = 1 using a subquery or CTE."
   ]
  },
  {
   "cell_type": "code",
   "execution_count": 0,
   "metadata": {
    "application/vnd.databricks.v1+cell": {
     "cellMetadata": {
      "byteLimit": 2048000,
      "rowLimit": 10000
     },
     "inputWidgets": {},
     "nuid": "f83567a6-2a9c-4588-8add-cfc95f08f039",
     "showTitle": false,
     "tableResultSettingsMap": {},
     "title": ""
    }
   },
   "outputs": [],
   "source": [
    "with Recent_Order as (\n",
    "SELECT \n",
    "    o.OrderID,\n",
    "    o.CustomerID,\n",
    "    c.FirstName || ' ' || c.LastName AS customer_name,\n",
    "    o.OrderDate,\n",
    "    o.TotalAmount,\n",
    "    ROW_NUMBER() OVER (\n",
    "        PARTITION BY o.CustomerID \n",
    "        ORDER BY o.OrderDate ) as rn\n",
    "        from orders o\n",
    "join customer c on o.CustomerID = c.CustomerID)\n",
    "select * from Recent_Order where rn = 1"
   ]
  },
  {
   "cell_type": "markdown",
   "metadata": {
    "application/vnd.databricks.v1+cell": {
     "cellMetadata": {},
     "inputWidgets": {},
     "nuid": "f12801c2-b6ac-4073-a2fa-6e4d8a9b8fa5",
     "showTitle": false,
     "tableResultSettingsMap": {},
     "title": ""
    }
   },
   "source": [
    "RANK()"
   ]
  },
  {
   "cell_type": "markdown",
   "metadata": {
    "application/vnd.databricks.v1+cell": {
     "cellMetadata": {},
     "inputWidgets": {},
     "nuid": "5dff6e7e-77a4-4582-8a65-371fb34af52b",
     "showTitle": false,
     "tableResultSettingsMap": {},
     "title": ""
    }
   },
   "source": [
    "Rank customers based on their total spending (highest to lowest).\n",
    "→ Multiple customers with same total get the same rank (with gaps)."
   ]
  },
  {
   "cell_type": "code",
   "execution_count": 0,
   "metadata": {
    "application/vnd.databricks.v1+cell": {
     "cellMetadata": {
      "byteLimit": 2048000,
      "rowLimit": 10000
     },
     "inputWidgets": {},
     "nuid": "f2620301-6f5f-4afd-8d39-c65ad2381b1e",
     "showTitle": false,
     "tableResultSettingsMap": {},
     "title": ""
    }
   },
   "outputs": [],
   "source": [
    "select c.CustomerID,c.FirstName, o.TotalAmount,\n",
    "RANK() over(--partition by c.CustomerID \n",
    "order by o.TotalAmount desc) as Price\n",
    "from \n",
    "customer c join workspace.default.orders o on c.CustomerID = o.CustomerID"
   ]
  },
  {
   "cell_type": "markdown",
   "metadata": {
    "application/vnd.databricks.v1+cell": {
     "cellMetadata": {},
     "inputWidgets": {},
     "nuid": "4da42580-38c0-4ae2-8d88-6868076ff5ae",
     "showTitle": false,
     "tableResultSettingsMap": {},
     "title": ""
    }
   },
   "source": [
    "# New Example"
   ]
  },
  {
   "cell_type": "markdown",
   "metadata": {
    "application/vnd.databricks.v1+cell": {
     "cellMetadata": {},
     "inputWidgets": {},
     "nuid": "609b6219-9433-421e-87ad-06dee0124de2",
     "showTitle": false,
     "tableResultSettingsMap": {},
     "title": ""
    }
   },
   "source": [
    "table creaion"
   ]
  },
  {
   "cell_type": "code",
   "execution_count": 0,
   "metadata": {
    "application/vnd.databricks.v1+cell": {
     "cellMetadata": {
      "byteLimit": 2048000,
      "rowLimit": 10000
     },
     "inputWidgets": {},
     "nuid": "69067e83-0167-4fba-affe-6aeb84b59004",
     "showTitle": false,
     "tableResultSettingsMap": {},
     "title": ""
    }
   },
   "outputs": [],
   "source": [
    "CREATE TABLE Employee_Sales (\n",
    "    sale_id INT PRIMARY KEY,\n",
    "    employee_name VARCHAR(50),\n",
    "    department VARCHAR(50),\n",
    "    sale_amount INT,\n",
    "    sale_date DATE\n",
    ");\n"
   ]
  },
  {
   "cell_type": "markdown",
   "metadata": {
    "application/vnd.databricks.v1+cell": {
     "cellMetadata": {},
     "inputWidgets": {},
     "nuid": "9c09bb21-61ab-403f-8338-8f34dc4d817f",
     "showTitle": false,
     "tableResultSettingsMap": {},
     "title": ""
    }
   },
   "source": [
    "Inserting records in table"
   ]
  },
  {
   "cell_type": "code",
   "execution_count": 0,
   "metadata": {
    "application/vnd.databricks.v1+cell": {
     "cellMetadata": {
      "byteLimit": 2048000,
      "rowLimit": 10000
     },
     "inputWidgets": {},
     "nuid": "85805698-6f43-4442-9d61-23e4223568a5",
     "showTitle": false,
     "tableResultSettingsMap": {},
     "title": ""
    }
   },
   "outputs": [],
   "source": [
    "INSERT INTO Employee_Sales (sale_id, employee_name, department, sale_amount, sale_date) VALUES\n",
    "(1, 'Alice', 'Electronics', 500, '2024-06-01'),\n",
    "(2, 'Bob', 'Electronics', 700, '2024-06-02'),\n",
    "(3, 'Alice', 'Electronics', 400, '2024-06-05'),\n",
    "(4, 'Charlie', 'Clothing', 300, '2024-06-03'),\n",
    "(5, 'Alice', 'Electronics', 800, '2024-06-07'),\n",
    "(6, 'Bob', 'Electronics', 650, '2024-06-08'),\n",
    "(7, 'Diana', 'Clothing', 200, '2024-06-02'),\n",
    "(8, 'Charlie', 'Clothing', 350, '2024-06-06'),\n",
    "(9, 'Diana', 'Clothing', 450, '2024-06-08');\n",
    "(10, 'Heera Thakur', 'Clothing', 450, '2024-06-09');\n"
   ]
  },
  {
   "cell_type": "code",
   "execution_count": 0,
   "metadata": {
    "application/vnd.databricks.v1+cell": {
     "cellMetadata": {
      "byteLimit": 2048000,
      "rowLimit": 10000
     },
     "inputWidgets": {},
     "nuid": "580cc139-46d6-4832-9d40-d9bf4246aa6f",
     "showTitle": false,
     "tableResultSettingsMap": {},
     "title": ""
    }
   },
   "outputs": [],
   "source": [
    "INSERT INTO Employee_Sales (sale_id, employee_name, department, sale_amount, sale_date) VALUES(10, 'Heera Thakur', 'Clothing', 450, '2024-06-09');"
   ]
  },
  {
   "cell_type": "code",
   "execution_count": 0,
   "metadata": {
    "application/vnd.databricks.v1+cell": {
     "cellMetadata": {
      "byteLimit": 2048000,
      "rowLimit": 10000
     },
     "inputWidgets": {},
     "nuid": "e4e45386-574b-4e91-962f-f59cab7cb065",
     "showTitle": false,
     "tableResultSettingsMap": {},
     "title": ""
    }
   },
   "outputs": [],
   "source": [
    "select * from employee_sales"
   ]
  },
  {
   "cell_type": "markdown",
   "metadata": {
    "application/vnd.databricks.v1+cell": {
     "cellMetadata": {},
     "inputWidgets": {},
     "nuid": "bdae027c-53ab-485c-b0ca-6d00080e5366",
     "showTitle": false,
     "tableResultSettingsMap": {},
     "title": ""
    }
   },
   "source": [
    "🔢 ROW_NUMBER Questions"
   ]
  },
  {
   "cell_type": "markdown",
   "metadata": {
    "application/vnd.databricks.v1+cell": {
     "cellMetadata": {},
     "inputWidgets": {},
     "nuid": "742d6b7d-930b-4105-ab72-162d2d878fd4",
     "showTitle": false,
     "tableResultSettingsMap": {},
     "title": ""
    }
   },
   "source": [
    "List each employee's sales with a row number ordered by sale date.\n",
    "→ Helps identify the first, second, third sales, etc."
   ]
  },
  {
   "cell_type": "code",
   "execution_count": 0,
   "metadata": {
    "application/vnd.databricks.v1+cell": {
     "cellMetadata": {
      "byteLimit": 2048000,
      "rowLimit": 10000
     },
     "inputWidgets": {},
     "nuid": "781bee22-bf1d-4272-8bb4-5ac2840a6b7e",
     "showTitle": false,
     "tableResultSettingsMap": {},
     "title": ""
    }
   },
   "outputs": [],
   "source": [
    "select *,\n",
    "row_number() over (partition by employee_name \n",
    "order by sale_date) as rn\n",
    "from \n",
    "employee_sales"
   ]
  },
  {
   "cell_type": "markdown",
   "metadata": {
    "application/vnd.databricks.v1+cell": {
     "cellMetadata": {},
     "inputWidgets": {},
     "nuid": "ec0876c4-ac7e-4441-aef3-9088205cb919",
     "showTitle": false,
     "tableResultSettingsMap": {},
     "title": ""
    }
   },
   "source": [
    "Find the most recent sale for each employee.\n",
    "→ Use ROW_NUMBER() to pick only the latest one."
   ]
  },
  {
   "cell_type": "code",
   "execution_count": 0,
   "metadata": {
    "application/vnd.databricks.v1+cell": {
     "cellMetadata": {
      "byteLimit": 2048000,
      "rowLimit": 10000
     },
     "inputWidgets": {},
     "nuid": "9d231c7e-a93c-4f2f-9e38-019e843f44a0",
     "showTitle": false,
     "tableResultSettingsMap": {},
     "title": ""
    }
   },
   "outputs": [],
   "source": [
    "with sales As(\n",
    "select *,\n",
    "row_number() over (partition by employee_name \n",
    "order by sale_date desc) as rn\n",
    "from \n",
    "employee_sales)\n",
    "\n",
    "select * from sales where rn = 1"
   ]
  },
  {
   "cell_type": "markdown",
   "metadata": {
    "application/vnd.databricks.v1+cell": {
     "cellMetadata": {},
     "inputWidgets": {},
     "nuid": "4552ac14-355d-4efd-8d74-42efb7d21f49",
     "showTitle": false,
     "tableResultSettingsMap": {},
     "title": ""
    }
   },
   "source": [
    "Get the top 2 sales per employee based on sale amount."
   ]
  },
  {
   "cell_type": "code",
   "execution_count": 0,
   "metadata": {
    "application/vnd.databricks.v1+cell": {
     "cellMetadata": {
      "byteLimit": 2048000,
      "rowLimit": 10000
     },
     "inputWidgets": {},
     "nuid": "1a686db6-bc0c-4055-bb1e-dd5510539dfd",
     "showTitle": false,
     "tableResultSettingsMap": {},
     "title": ""
    }
   },
   "outputs": [],
   "source": [
    "with sales As(\n",
    "select *,\n",
    "row_number() over (partition by employee_name \n",
    "order by sale_amount desc) as rn\n",
    "from \n",
    "employee_sales)\n",
    "\n",
    "select * from sales where rn <= 2"
   ]
  },
  {
   "cell_type": "markdown",
   "metadata": {
    "application/vnd.databricks.v1+cell": {
     "cellMetadata": {},
     "inputWidgets": {},
     "nuid": "5ac09005-b4d5-4da5-a6bb-45617fae989a",
     "showTitle": false,
     "tableResultSettingsMap": {},
     "title": ""
    }
   },
   "source": [
    "## 🏅 RANK & DENSE_RANK Questions"
   ]
  },
  {
   "cell_type": "markdown",
   "metadata": {
    "application/vnd.databricks.v1+cell": {
     "cellMetadata": {},
     "inputWidgets": {},
     "nuid": "f31a9947-9b09-4591-93fc-39d91ac9d86e",
     "showTitle": false,
     "tableResultSettingsMap": {},
     "title": ""
    }
   },
   "source": [
    "Rank employees within each department based on sale amount (descending).\n",
    "→ Helps to find the top performers."
   ]
  },
  {
   "cell_type": "code",
   "execution_count": 0,
   "metadata": {
    "application/vnd.databricks.v1+cell": {
     "cellMetadata": {
      "byteLimit": 2048000,
      "rowLimit": 10000
     },
     "inputWidgets": {},
     "nuid": "bf3bfecf-7eb0-49ea-b050-a929b5b67e76",
     "showTitle": false,
     "tableResultSettingsMap": {},
     "title": ""
    }
   },
   "outputs": [],
   "source": [
    "with sales As(\n",
    "select *,\n",
    "rank() over (partition by department \n",
    "order by sale_amount desc) as rn\n",
    "from \n",
    "employee_sales)\n",
    "\n",
    "select * from sales where rn = 1"
   ]
  },
  {
   "cell_type": "markdown",
   "metadata": {
    "application/vnd.databricks.v1+cell": {
     "cellMetadata": {},
     "inputWidgets": {},
     "nuid": "9dd8175b-8d98-45ca-9835-2fcd94ef9e77",
     "showTitle": false,
     "tableResultSettingsMap": {},
     "title": ""
    }
   },
   "source": [
    "Identify employees with the same rank for same sale amount using DENSE_RANK()."
   ]
  },
  {
   "cell_type": "code",
   "execution_count": 0,
   "metadata": {
    "application/vnd.databricks.v1+cell": {
     "cellMetadata": {
      "byteLimit": 2048000,
      "rowLimit": 10000
     },
     "inputWidgets": {},
     "nuid": "19544699-774e-48a8-9c4c-5d42724b0ed2",
     "showTitle": false,
     "tableResultSettingsMap": {},
     "title": ""
    }
   },
   "outputs": [],
   "source": [
    "SELECT *,\n",
    "       DENSE_RANK() OVER (PARTITION BY department ORDER BY sale_amount DESC) AS sale_rank\n",
    "FROM Employee_Sales;\n"
   ]
  },
  {
   "cell_type": "markdown",
   "metadata": {
    "application/vnd.databricks.v1+cell": {
     "cellMetadata": {},
     "inputWidgets": {},
     "nuid": "48704c8e-2489-4a6d-8c06-1ec5519ac476",
     "showTitle": false,
     "tableResultSettingsMap": {},
     "title": ""
    }
   },
   "source": []
  }
 ],
 "metadata": {
  "application/vnd.databricks.v1+notebook": {
   "computePreferences": null,
   "dashboards": [],
   "environmentMetadata": {
    "base_environment": "",
    "environment_version": "2"
   },
   "inputWidgetPreferences": null,
   "language": "sql",
   "notebookMetadata": {
    "pythonIndentUnit": 4
   },
   "notebookName": "Class5",
   "widgets": {}
  },
  "language_info": {
   "name": "sql"
  }
 },
 "nbformat": 4,
 "nbformat_minor": 0
}
