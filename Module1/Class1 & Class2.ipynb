{
 "cells": [
  {
   "cell_type": "markdown",
   "metadata": {
    "application/vnd.databricks.v1+cell": {
     "cellMetadata": {},
     "inputWidgets": {},
     "nuid": "7767bdb5-5d60-462e-8ae4-3d6202351479",
     "showTitle": false,
     "tableResultSettingsMap": {},
     "title": ""
    }
   },
   "source": [
    "SQL\n"
   ]
  },
  {
   "cell_type": "code",
   "execution_count": 0,
   "metadata": {
    "application/vnd.databricks.v1+cell": {
     "cellMetadata": {
      "byteLimit": 2048000,
      "rowLimit": 10000
     },
     "inputWidgets": {},
     "nuid": "bf914012-716b-4ca6-a732-ba3a85aac656",
     "showTitle": false,
     "tableResultSettingsMap": {},
     "title": ""
    }
   },
   "outputs": [],
   "source": [
    "%sql\n",
    "CREATE TABLE Employee (\n",
    "    EmployeeID INT PRIMARY KEY,\n",
    "    FirstName VARCHAR(50),\n",
    "    LastName VARCHAR(50),\n",
    "    Department VARCHAR(50),\n",
    "    Salary DECIMAL(10, 2),\n",
    "    JoinDate DATE\n",
    ");"
   ]
  },
  {
   "cell_type": "code",
   "execution_count": 0,
   "metadata": {
    "application/vnd.databricks.v1+cell": {
     "cellMetadata": {
      "byteLimit": 2048000,
      "rowLimit": 10000
     },
     "inputWidgets": {},
     "nuid": "79b2b629-397d-46b5-8c62-f4602cc60ea4",
     "showTitle": false,
     "tableResultSettingsMap": {},
     "title": ""
    }
   },
   "outputs": [],
   "source": [
    "INSERT INTO Employee (EmployeeID, FirstName, LastName, Department, Salary, JoinDate) VALUES\n",
    "(1, 'John', 'Doe', 'IT', 60000.00, '2022-01-15'),\n",
    "(2, 'Jane', 'Smith', 'HR', 55000.00, '2022-02-20'),\n",
    "(3, 'Robert', 'Brown', 'Finance', 67000.00, '2022-03-01'),\n",
    "(4, 'Emily', 'Davis', 'IT', 62000.00, '2022-03-12'),\n",
    "(5, 'Michael', 'Wilson', 'Marketing', 58000.00, '2022-04-05'),\n",
    "(6, 'Jessica', 'Miller', 'Sales', 54000.00, '2022-04-20'),\n",
    "(7, 'Daniel', 'Moore', 'Finance', 69000.00, '2022-05-02'),\n",
    "(8, 'Ashley', 'Taylor', 'IT', 64000.00, '2022-05-18'),\n",
    "(9, 'David', 'Anderson', 'HR', 56000.00, '2022-06-10'),\n",
    "(10, 'Sarah', 'Thomas', 'IT', 61000.00, '2022-06-25'),\n",
    "(11, 'Brian', 'Jackson', 'Marketing', 57000.00, '2022-07-03'),\n",
    "(12, 'Amy', 'White', 'Sales', 53000.00, '2022-07-14'),\n",
    "(13, 'Justin', 'Harris', 'Finance', 66000.00, '2022-08-01'),\n",
    "(14, 'Laura', 'Martin', 'HR', 55000.00, '2022-08-22'),\n",
    "(15, 'Steven', 'Thompson', 'IT', 63000.00, '2022-09-10'),\n",
    "(16, 'Anna', 'Garcia', 'Marketing', 59000.00, '2022-09-28'),\n",
    "(17, 'Chris', 'Martinez', 'Sales', 56000.00, '2022-10-15'),\n",
    "(18, 'Katie', 'Robinson', 'Finance', 68000.00, '2022-10-29'),\n",
    "(19, 'Kevin', 'Clark', 'IT', 61000.00, '2022-11-07'),\n",
    "(20, 'Megan', 'Rodriguez', 'HR', 54000.00, '2022-11-20'),\n",
    "(21, 'Jason', 'Lewis', 'IT', 64000.00, '2022-12-01'),\n",
    "(22, 'Rachel', 'Lee', 'Marketing', 60000.00, '2022-12-12'),\n",
    "(23, 'Brandon', 'Walker', 'Sales', 52000.00, '2023-01-03'),\n",
    "(24, 'Stephanie', 'Hall', 'Finance', 67000.00, '2023-01-14'),\n",
    "(25, 'Eric', 'Allen', 'HR', 56000.00, '2023-01-27'),\n",
    "(26, 'Tina', 'Young', 'IT', 62000.00, '2023-02-10'),\n",
    "(27, 'Zach', 'King', 'Marketing', 58000.00, '2023-02-21'),\n",
    "(28, 'Angela', 'Wright', 'Sales', 55000.00, '2023-03-05'),\n",
    "(29, 'Josh', 'Scott', 'Finance', 69000.00, '2023-03-18'),\n",
    "(30, 'Brittany', 'Torres', 'HR', 54000.00, '2023-04-02'),\n",
    "(31, 'Ryan', 'Nguyen', 'IT', 61000.00, '2023-04-15'),\n",
    "(32, 'Olivia', 'Hill', 'Marketing', 60000.00, '2023-04-28'),\n",
    "(33, 'Gary', 'Green', 'Sales', 53000.00, '2023-05-10'),\n",
    "(34, 'Natalie', 'Adams', 'Finance', 66000.00, '2023-05-23'),\n",
    "(35, 'Tyler', 'Baker', 'HR', 57000.00, '2023-06-03'),\n",
    "(36, 'Kim', 'Nelson', 'IT', 64000.00, '2023-06-17'),\n",
    "(37, 'Logan', 'Carter', 'Marketing', 58000.00, '2023-06-30'),\n",
    "(38, 'Vanessa', 'Mitchell', 'Sales', 52000.00, '2023-07-12'),\n",
    "(39, 'Sean', 'Perez', 'Finance', 70000.00, '2023-07-24'),\n",
    "(40, 'Allison', 'Roberts', 'HR', 55000.00, '2023-08-06'),\n",
    "(41, 'Nathan', 'Turner', 'IT', 62000.00, '2023-08-19'),\n",
    "(42, 'Sophia', 'Phillips', 'Marketing', 60000.00, '2023-09-01'),\n",
    "(43, 'Aaron', 'Campbell', 'Sales', 56000.00, '2023-09-14'),\n",
    "(44, 'Jasmine', 'Parker', 'Finance', 68000.00, '2023-09-27'),\n",
    "(45, 'Adam', 'Evans', 'HR', 54000.00, '2023-10-09'),\n",
    "(46, 'Lauren', 'Edwards', 'IT', 63000.00, '2023-10-23'),\n",
    "(47, 'Ethan', 'Collins', 'Marketing', 59000.00, '2023-11-05'),\n",
    "(48, 'Samantha', 'Stewart', 'Sales', 53000.00, '2023-11-18'),\n",
    "(49, 'Blake', 'Sanchez', 'Finance', 66000.00, '2023-12-01'),\n",
    "(50, 'Chloe', 'Morris', 'HR', 56000.00, '2023-12-15');\n"
   ]
  },
  {
   "cell_type": "code",
   "execution_count": 0,
   "metadata": {
    "application/vnd.databricks.v1+cell": {
     "cellMetadata": {
      "byteLimit": 2048000,
      "rowLimit": 10000
     },
     "inputWidgets": {},
     "nuid": "48c3bb1a-f6e2-4400-843f-59567e1976b7",
     "showTitle": false,
     "tableResultSettingsMap": {},
     "title": ""
    }
   },
   "outputs": [],
   "source": [
    "Select * from Employee"
   ]
  },
  {
   "cell_type": "code",
   "execution_count": 0,
   "metadata": {
    "application/vnd.databricks.v1+cell": {
     "cellMetadata": {
      "byteLimit": 2048000,
      "rowLimit": 10000
     },
     "inputWidgets": {},
     "nuid": "e9fe0ce7-e33c-4e87-9ff9-99a12868bc9d",
     "showTitle": false,
     "tableResultSettingsMap": {},
     "title": ""
    }
   },
   "outputs": [],
   "source": [
    "Select * from Employee where Department='IT'"
   ]
  },
  {
   "cell_type": "code",
   "execution_count": 0,
   "metadata": {
    "application/vnd.databricks.v1+cell": {
     "cellMetadata": {
      "byteLimit": 2048000,
      "rowLimit": 10000
     },
     "inputWidgets": {},
     "nuid": "efee7bf3-a115-4948-a464-ab4a85b38c74",
     "showTitle": false,
     "tableResultSettingsMap": {},
     "title": ""
    }
   },
   "outputs": [],
   "source": [
    "Select * from Employee where Department = 'IT' order by Salary desc"
   ]
  },
  {
   "cell_type": "code",
   "execution_count": 0,
   "metadata": {
    "application/vnd.databricks.v1+cell": {
     "cellMetadata": {
      "byteLimit": 2048000,
      "rowLimit": 10000
     },
     "inputWidgets": {},
     "nuid": "590510b7-527a-446c-b10f-ce04b97f5139",
     "showTitle": false,
     "tableResultSettingsMap": {},
     "title": ""
    }
   },
   "outputs": [],
   "source": [
    "Select * from Employee where Department = 'IT' order by Salary desc, FirstName limit 1 offset 1"
   ]
  },
  {
   "cell_type": "code",
   "execution_count": 0,
   "metadata": {
    "application/vnd.databricks.v1+cell": {
     "cellMetadata": {
      "byteLimit": 2048000,
      "rowLimit": 10000
     },
     "inputWidgets": {},
     "nuid": "c161c6f1-56ea-4af7-83e8-fd9b809b3638",
     "showTitle": false,
     "tableResultSettingsMap": {},
     "title": ""
    }
   },
   "outputs": [],
   "source": [
    "select distinct(Department) from employee"
   ]
  },
  {
   "cell_type": "code",
   "execution_count": 0,
   "metadata": {
    "application/vnd.databricks.v1+cell": {
     "cellMetadata": {
      "byteLimit": 2048000,
      "rowLimit": 10000
     },
     "inputWidgets": {},
     "nuid": "ebf4766e-6636-4d17-861a-9a872609d762",
     "showTitle": false,
     "tableResultSettingsMap": {},
     "title": ""
    }
   },
   "outputs": [],
   "source": [
    "select department, SUM(Salary) AS total_Salary from employee group by Department"
   ]
  },
  {
   "cell_type": "code",
   "execution_count": 0,
   "metadata": {
    "application/vnd.databricks.v1+cell": {
     "cellMetadata": {
      "byteLimit": 2048000,
      "rowLimit": 10000
     },
     "inputWidgets": {},
     "nuid": "b28c799b-f461-4490-acbb-c70ca072ff6d",
     "showTitle": false,
     "tableResultSettingsMap": {},
     "title": ""
    }
   },
   "outputs": [],
   "source": [
    "select department, SUM(Salary) AS total_Salary from employee group by Department having sum(Salary) > 500000"
   ]
  }
 ],
 "metadata": {
  "application/vnd.databricks.v1+notebook": {
   "computePreferences": null,
   "dashboards": [],
   "environmentMetadata": {
    "base_environment": "",
    "environment_version": "2"
   },
   "inputWidgetPreferences": null,
   "language": "sql",
   "notebookMetadata": {
    "pythonIndentUnit": 4
   },
   "notebookName": "Class1 & Class2",
   "widgets": {}
  },
  "language_info": {
   "name": "sql"
  }
 },
 "nbformat": 4,
 "nbformat_minor": 0
}
