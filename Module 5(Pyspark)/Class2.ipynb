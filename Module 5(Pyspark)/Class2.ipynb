{
 "cells": [
  {
   "cell_type": "markdown",
   "metadata": {
    "application/vnd.databricks.v1+cell": {
     "cellMetadata": {
      "byteLimit": 2048000,
      "rowLimit": 10000
     },
     "inputWidgets": {},
     "nuid": "487166f7-fb01-4624-ac9f-7a2bf0c0f65c",
     "showTitle": false,
     "tableResultSettingsMap": {},
     "title": ""
    }
   },
   "source": [
    "# PYSPARK HANDS ON"
   ]
  },
  {
   "cell_type": "code",
   "execution_count": 0,
   "metadata": {
    "application/vnd.databricks.v1+cell": {
     "cellMetadata": {
      "byteLimit": 2048000,
      "rowLimit": 10000
     },
     "inputWidgets": {},
     "nuid": "d0b6a6b8-c885-4a0e-b611-67aa6b3394df",
     "showTitle": false,
     "tableResultSettingsMap": {},
     "title": ""
    }
   },
   "outputs": [],
   "source": [
    "#SPARK Context\n",
    "# from pyspark.sql import SparkSesion\n",
    "# spark = SparkSession.builder.appName(\"Spark DataFrames\").getOrCreate()"
   ]
  },
  {
   "cell_type": "code",
   "execution_count": 0,
   "metadata": {
    "application/vnd.databricks.v1+cell": {
     "cellMetadata": {
      "byteLimit": 2048000,
      "rowLimit": 10000
     },
     "inputWidgets": {},
     "nuid": "b28c4be9-9048-4539-96b7-0cd70ba11b13",
     "showTitle": false,
     "tableResultSettingsMap": {},
     "title": ""
    }
   },
   "outputs": [],
   "source": [
    "#create  realistic dataframe of explorer\n",
    "\n",
    "data = [\n",
    "    {\"name\": \"Gaurav\", \"age\": 24, \"sex\": \"M\"},\n",
    "    {\"name\": \"Priya\", \"age\": 25, \"sex\": \"F\"},\n",
    "    {\"name\": \"Ravi\", \"age\": 26, \"sex\": \"M\"},\n",
    "    {\"name\": \"Anjali\", \"age\": 23, \"sex\": \"F\"},\n",
    "    {\"name\": \"Amit\", \"age\": 28, \"sex\": \"M\"},\n",
    "    {\"name\": \"Sneha\", \"age\": 27, \"sex\": \"F\"},\n",
    "    {\"name\": \"Vikas\", \"age\": 29, \"sex\": \"M\"},\n",
    "    {\"name\": \"Neha\", \"age\": 22, \"sex\": \"F\"},\n",
    "    {\"name\": \"Rahul\", \"age\": 30, \"sex\": \"M\"},\n",
    "    {\"name\": \"Simran\", \"age\": 24, \"sex\": \"F\"},\n",
    "    {\"name\": \"Karan\", \"age\": 25, \"sex\": \"M\"},\n",
    "    {\"name\": \"Pooja\", \"age\": 26, \"sex\": \"F\"},\n",
    "    {\"name\": \"Arjun\", \"age\": 27, \"sex\": \"M\"},\n",
    "    {\"name\": \"Meera\", \"age\": 28, \"sex\": \"F\"},\n",
    "    {\"name\": \"Sahil\", \"age\": 29, \"sex\": \"M\"}\n",
    "]\n",
    "\n",
    "df = spark.createDataFrame(data)\n",
    "df.display()"
   ]
  },
  {
   "cell_type": "code",
   "execution_count": 0,
   "metadata": {
    "application/vnd.databricks.v1+cell": {
     "cellMetadata": {
      "byteLimit": 2048000,
      "rowLimit": 10000
     },
     "inputWidgets": {},
     "nuid": "b6255ae4-48fb-4953-8201-2f2b8dd973fe",
     "showTitle": false,
     "tableResultSettingsMap": {},
     "title": ""
    }
   },
   "outputs": [],
   "source": [
    "display(df.select(\"name\"))"
   ]
  },
  {
   "cell_type": "code",
   "execution_count": 0,
   "metadata": {
    "application/vnd.databricks.v1+cell": {
     "cellMetadata": {
      "byteLimit": 2048000,
      "rowLimit": 10000
     },
     "inputWidgets": {},
     "nuid": "40c76e33-5a30-4b9a-ac51-c5680d00a8a5",
     "showTitle": false,
     "tableResultSettingsMap": {},
     "title": ""
    }
   },
   "outputs": [],
   "source": [
    "display(df.select(\"name\",\"sex\"))"
   ]
  },
  {
   "cell_type": "code",
   "execution_count": 0,
   "metadata": {
    "application/vnd.databricks.v1+cell": {
     "cellMetadata": {
      "byteLimit": 2048000,
      "rowLimit": 10000
     },
     "inputWidgets": {},
     "nuid": "340fa4b6-c7a0-4650-9d07-f52520ed97a1",
     "showTitle": false,
     "tableResultSettingsMap": {},
     "title": ""
    }
   },
   "outputs": [],
   "source": [
    "#filter rows based on sex\n",
    "df.filter(df.sex == \"M\").display()"
   ]
  },
  {
   "cell_type": "code",
   "execution_count": 0,
   "metadata": {
    "application/vnd.databricks.v1+cell": {
     "cellMetadata": {
      "byteLimit": 2048000,
      "rowLimit": 10000
     },
     "inputWidgets": {},
     "nuid": "361c2364-485b-4ec8-90c6-a06baae79865",
     "showTitle": false,
     "tableResultSettingsMap": {},
     "title": ""
    }
   },
   "outputs": [],
   "source": [
    "#apply multiple filters\n",
    "display(df.filter((df.sex == \"M\") & (df.age > 25)))"
   ]
  },
  {
   "cell_type": "code",
   "execution_count": 0,
   "metadata": {
    "application/vnd.databricks.v1+cell": {
     "cellMetadata": {
      "byteLimit": 2048000,
      "rowLimit": 10000
     },
     "inputWidgets": {},
     "nuid": "152b11db-2070-4353-b5cd-08c9a575b451",
     "showTitle": false,
     "tableResultSettingsMap": {},
     "title": ""
    }
   },
   "outputs": [],
   "source": [
    "#create a derived column\n",
    "from pyspark.sql.functions import col\n",
    "\n",
    "df = df.withColumn(\n",
    "    \"Salary\",\n",
    "    col(\"age\") * 2\n",
    ")\n",
    "display(df)"
   ]
  },
  {
   "cell_type": "code",
   "execution_count": 0,
   "metadata": {
    "application/vnd.databricks.v1+cell": {
     "cellMetadata": {
      "byteLimit": 2048000,
      "rowLimit": 10000
     },
     "inputWidgets": {},
     "nuid": "0f87b289-c0f1-4c23-a6d1-f63e1d115b54",
     "showTitle": false,
     "tableResultSettingsMap": {},
     "title": ""
    }
   },
   "outputs": [],
   "source": [
    "#Group BY and aggregation\n",
    "#average of salary by sex\n",
    "df.groupBy(\"sex\").avg(\"Salary\").display()\n"
   ]
  },
  {
   "cell_type": "code",
   "execution_count": 0,
   "metadata": {
    "application/vnd.databricks.v1+cell": {
     "cellMetadata": {
      "byteLimit": 2048000,
      "rowLimit": 10000
     },
     "inputWidgets": {},
     "nuid": "9527e0df-7451-4d76-a270-4dce69d38e85",
     "showTitle": false,
     "tableResultSettingsMap": {},
     "title": ""
    }
   },
   "outputs": [],
   "source": [
    "#count of people by sex\n",
    "df.groupBy(\"sex\").count().display()"
   ]
  },
  {
   "cell_type": "code",
   "execution_count": 0,
   "metadata": {
    "application/vnd.databricks.v1+cell": {
     "cellMetadata": {
      "byteLimit": 2048000,
      "rowLimit": 10000
     },
     "inputWidgets": {},
     "nuid": "7511587c-f077-4415-8973-d7d4ecc960dd",
     "showTitle": false,
     "tableResultSettingsMap": {},
     "title": ""
    }
   },
   "outputs": [],
   "source": [
    "#join two data frame\n",
    "# Create a department DataFrame\n",
    "dept_data = [\n",
    "    {\"name\": \"Gaurav\", \"department\": \"Engineering\"},\n",
    "    {\"name\": \"Priya\", \"department\": \"HR\"},\n",
    "    {\"name\": \"Ravi\", \"department\": \"Finance\"},\n",
    "    {\"name\": \"Anjali\", \"department\": \"Marketing\"},\n",
    "    {\"name\": \"Amit\", \"department\": \"Engineering\"},\n",
    "    {\"name\": \"Sneha\", \"department\": \"HR\"},\n",
    "    {\"name\": \"Vikas\", \"department\": \"Finance\"},\n",
    "    {\"name\": \"Neha\", \"department\": \"Marketing\"},\n",
    "    {\"name\": \"Rahul\", \"department\": \"Engineering\"},\n",
    "    {\"name\": \"Simran\", \"department\": \"HR\"},\n",
    "    {\"name\": \"Karan\", \"department\": \"Finance\"},\n",
    "    {\"name\": \"Pooja\", \"department\": \"Marketing\"},\n",
    "    {\"name\": \"Arjun\", \"department\": \"Engineering\"},\n",
    "    {\"name\": \"Meera\", \"department\": \"HR\"},\n",
    "    {\"name\": \"Sahil\", \"department\": \"Finance\"}\n",
    "]\n",
    "\n",
    "dept_df = spark.createDataFrame(dept_data)\n",
    "display(dept_df)"
   ]
  },
  {
   "cell_type": "code",
   "execution_count": 0,
   "metadata": {
    "application/vnd.databricks.v1+cell": {
     "cellMetadata": {
      "byteLimit": 2048000,
      "rowLimit": 10000
     },
     "inputWidgets": {},
     "nuid": "1f4d38d2-d20f-4cb9-a8d1-6a8e57aa11a4",
     "showTitle": false,
     "tableResultSettingsMap": {},
     "title": ""
    }
   },
   "outputs": [],
   "source": [
    "#NOW joining the two data frame\n",
    "joined_df = df.join(dept_df, \"name\")\n",
    "display(joined_df)"
   ]
  },
  {
   "cell_type": "code",
   "execution_count": 0,
   "metadata": {
    "application/vnd.databricks.v1+cell": {
     "cellMetadata": {
      "byteLimit": 2048000,
      "rowLimit": 10000
     },
     "inputWidgets": {},
     "nuid": "add0d6ae-3826-477b-94c6-0b318a91baa3",
     "showTitle": false,
     "tableResultSettingsMap": {},
     "title": ""
    }
   },
   "outputs": [],
   "source": [
    "#transformation VS action\n",
    "#transformation\n",
    "filtered_df = df.filter(df.sex == \"M\")\n",
    "#action\n",
    "filtered_df.count()"
   ]
  },
  {
   "cell_type": "markdown",
   "metadata": {
    "application/vnd.databricks.v1+cell": {
     "cellMetadata": {
      "byteLimit": 2048000,
      "rowLimit": 10000
     },
     "inputWidgets": {},
     "nuid": "72980ce0-cbfc-4dc3-a69e-510a21fd89d2",
     "showTitle": false,
     "tableResultSettingsMap": {},
     "title": ""
    }
   },
   "source": []
  }
 ],
 "metadata": {
  "application/vnd.databricks.v1+notebook": {
   "computePreferences": {
    "hardware": {
     "accelerator": null,
     "gpuPoolId": null,
     "memory": null
    }
   },
   "dashboards": [],
   "environmentMetadata": {
    "base_environment": "",
    "environment_version": "3"
   },
   "inputWidgetPreferences": null,
   "language": "python",
   "notebookMetadata": {
    "pythonIndentUnit": 4
   },
   "notebookName": "Class2",
   "widgets": {}
  },
  "language_info": {
   "name": "python"
  }
 },
 "nbformat": 4,
 "nbformat_minor": 0
}
