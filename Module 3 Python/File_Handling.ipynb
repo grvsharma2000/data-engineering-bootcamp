{
 "cells": [
  {
   "cell_type": "markdown",
   "metadata": {
    "application/vnd.databricks.v1+cell": {
     "cellMetadata": {},
     "inputWidgets": {},
     "nuid": "e74df4e0-fa28-4401-b5d2-3f37fa0d8a37",
     "showTitle": false,
     "tableResultSettingsMap": {},
     "title": ""
    }
   },
   "source": [
    "FILE Handling"
   ]
  },
  {
   "cell_type": "code",
   "execution_count": 0,
   "metadata": {
    "application/vnd.databricks.v1+cell": {
     "cellMetadata": {
      "byteLimit": 2048000,
      "rowLimit": 10000
     },
     "inputWidgets": {},
     "nuid": "3ed61b17-8f3b-4d93-bdf8-710738aba122",
     "showTitle": false,
     "tableResultSettingsMap": {},
     "title": ""
    }
   },
   "outputs": [],
   "source": [
    "#Basic Read the CSV file\n",
    "import csv\n",
    "with open('/Workspace/Users/grvsharma324@gmail.com/data-engineering-bootcamp/Module 3 Python/Global_food_wastage.csv',mode='r') as csv_file:\n",
    "    csv_reader = csv.reader(csv_file)\n",
    "    #to skip the header of file use next\n",
    "    next(csv_reader)\n",
    "    for row in csv_reader:\n",
    "        print(row)\n"
   ]
  },
  {
   "cell_type": "code",
   "execution_count": 0,
   "metadata": {
    "application/vnd.databricks.v1+cell": {
     "cellMetadata": {
      "byteLimit": 2048000,
      "rowLimit": 10000
     },
     "inputWidgets": {},
     "nuid": "a3757f64-5cc9-4c6d-9377-605b9e4f0661",
     "showTitle": false,
     "tableResultSettingsMap": {},
     "title": ""
    }
   },
   "outputs": [],
   "source": [
    "import csv\n",
    "with open('/Workspace/Users/grvsharma324@gmail.com/data-engineering-bootcamp/Module 3 Python/Global_food_wastage.csv',mode='r') as csv_file:\n",
    "    csv_reader = csv.DictReader(csv_file)\n",
    "    #to skip the header of file use next\n",
    "    next(csv_reader)\n",
    "    for row in csv_reader:\n",
    "        print(row['Country'])"
   ]
  },
  {
   "cell_type": "markdown",
   "metadata": {
    "application/vnd.databricks.v1+cell": {
     "cellMetadata": {},
     "inputWidgets": {},
     "nuid": "d29d2809-85e2-43e0-820c-43d23ef4e542",
     "showTitle": false,
     "tableResultSettingsMap": {},
     "title": ""
    }
   },
   "source": [
    "Writing to CSV"
   ]
  },
  {
   "cell_type": "markdown",
   "metadata": {
    "application/vnd.databricks.v1+cell": {
     "cellMetadata": {},
     "inputWidgets": {},
     "nuid": "a478e4f1-130d-4b5b-a9ad-c203593ff987",
     "showTitle": false,
     "tableResultSettingsMap": {},
     "title": ""
    }
   },
   "source": []
  },
  {
   "cell_type": "code",
   "execution_count": 0,
   "metadata": {
    "application/vnd.databricks.v1+cell": {
     "cellMetadata": {
      "byteLimit": 2048000,
      "rowLimit": 10000
     },
     "inputWidgets": {},
     "nuid": "16142815-347f-45d1-b5b6-79e8432f9be8",
     "showTitle": false,
     "tableResultSettingsMap": {},
     "title": ""
    }
   },
   "outputs": [],
   "source": [
    "#Create Output File\n",
    "\n",
    "with open('output.csv',mode='w',newline='') as file:\n",
    "    writer = csv.writer(file)\n",
    "    writer.writerow(['Country','Wastage'])"
   ]
  },
  {
   "cell_type": "code",
   "execution_count": 0,
   "metadata": {
    "application/vnd.databricks.v1+cell": {
     "cellMetadata": {
      "byteLimit": 2048000,
      "rowLimit": 10000
     },
     "inputWidgets": {},
     "nuid": "876a3833-5db5-40d8-ab55-4f684c555560",
     "showTitle": false,
     "tableResultSettingsMap": {},
     "title": ""
    }
   },
   "outputs": [],
   "source": [
    "#Read line by line logging file\n",
    "with open('log.txt',mode= 'r',)as file:\n",
    "  count = 0\n",
    "  for line in file:\n",
    "    if 'Error' in line:\n",
    "      print(f'Error found in line {count}: {line}')\n",
    "      \n",
    "    count += 1  \n",
    "  print(f'Total number of errors: {count}')"
   ]
  },
  {
   "cell_type": "markdown",
   "metadata": {
    "application/vnd.databricks.v1+cell": {
     "cellMetadata": {},
     "inputWidgets": {},
     "nuid": "02d33cf5-1606-4374-a0a3-e42a95a033e9",
     "showTitle": false,
     "tableResultSettingsMap": {},
     "title": ""
    }
   },
   "source": [
    "APIs"
   ]
  },
  {
   "cell_type": "code",
   "execution_count": 0,
   "metadata": {
    "application/vnd.databricks.v1+cell": {
     "cellMetadata": {
      "byteLimit": 2048000,
      "rowLimit": 10000
     },
     "inputWidgets": {},
     "nuid": "58158b0f-7619-41e5-bb6f-8adc7e95d9f1",
     "showTitle": false,
     "tableResultSettingsMap": {},
     "title": ""
    }
   },
   "outputs": [],
   "source": [
    "#Fetching data from api(just copy from rapido api site)\n",
    "import requests\n",
    "\n",
    "url = \"https://imdb236.p.rapidapi.com/api/imdb/search\"\n",
    "\n",
    "querystring = {\"type\":\"movie\",\"genre\":\"Drama\",\"rows\":\"25\",\"sortOrder\":\"ASC\",\"sortField\":\"id\"}\n",
    "\n",
    "headers = {\n",
    "\t\"x-rapidapi-key\": \"23fddf6547msh849af0093dac971p11a419jsn2d392a8da402\",\n",
    "\t\"x-rapidapi-host\": \"imdb236.p.rapidapi.com\"\n",
    "}\n",
    "\n",
    "response = requests.get(url, headers=headers, params=querystring)\n",
    "\n",
    "print(response.json())"
   ]
  },
  {
   "cell_type": "markdown",
   "metadata": {
    "application/vnd.databricks.v1+cell": {
     "cellMetadata": {},
     "inputWidgets": {},
     "nuid": "4037e3f7-cea8-4b2e-b92b-0813bc61b437",
     "showTitle": false,
     "tableResultSettingsMap": {},
     "title": ""
    }
   },
   "source": [
    "# Tasks:\n",
    "\n",
    "1. Read a CSV file (sample_customers.csv) using the built-in csv module and print\n",
    "each row.\n",
    "\n",
    "2. Implement a try-except block that handles:\n",
    "\n",
    "   FileNotFoundError\n",
    "\n",
    "   ValueError during row parsing\n",
    "\n",
    "3. Append a new customer record to the same CSV file using file write mode ('a').\n",
    "\n",
    "4. Log success and error messages using basic print () or logging."
   ]
  },
  {
   "cell_type": "code",
   "execution_count": 0,
   "metadata": {
    "application/vnd.databricks.v1+cell": {
     "cellMetadata": {
      "byteLimit": 2048000,
      "rowLimit": 10000
     },
     "inputWidgets": {},
     "nuid": "28fe5894-0cbb-40dd-a2b7-f040252cb2d4",
     "showTitle": false,
     "tableResultSettingsMap": {},
     "title": ""
    }
   },
   "outputs": [],
   "source": [
    "import csv\n",
    "try:\n",
    "    with open('customers.csv', mode = 'r', newline = '') as CustomerFile:\n",
    "      reader_file = csv.reader(CustomerFile)\n",
    "      for row in reader_file:\n",
    "          if CustomerFile.newlines:\n",
    "            print(row)\n",
    "          else:\n",
    "            print('No Data')\n",
    "except FileNotFoundError:\n",
    "  print('File not found')"
   ]
  },
  {
   "cell_type": "code",
   "execution_count": 0,
   "metadata": {
    "application/vnd.databricks.v1+cell": {
     "cellMetadata": {
      "byteLimit": 2048000,
      "rowLimit": 10000
     },
     "inputWidgets": {},
     "nuid": "ad50a317-4009-4a6d-96ae-be24bbaea132",
     "showTitle": false,
     "tableResultSettingsMap": {},
     "title": ""
    }
   },
   "outputs": [],
   "source": [
    "import csv\n",
    "try:\n",
    "    with open('customers.csv', mode='w', newline='') as CustomerFile:\n",
    "        writer_file = csv.writer(CustomerFile)\n",
    "        writer_file.writerow(['Gaurav'])\n",
    "        print('File created')\n",
    "except ValueError:\n",
    "    print('ValueError')"
   ]
  }
 ],
 "metadata": {
  "application/vnd.databricks.v1+notebook": {
   "computePreferences": null,
   "dashboards": [],
   "environmentMetadata": {
    "base_environment": "",
    "environment_version": "2"
   },
   "inputWidgetPreferences": null,
   "language": "python",
   "notebookMetadata": {
    "pythonIndentUnit": 4
   },
   "notebookName": "File_Handling",
   "widgets": {}
  },
  "language_info": {
   "name": "python"
  }
 },
 "nbformat": 4,
 "nbformat_minor": 0
}
