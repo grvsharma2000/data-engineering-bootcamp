{
 "cells": [
  {
   "cell_type": "code",
   "execution_count": 0,
   "metadata": {
    "application/vnd.databricks.v1+cell": {
     "cellMetadata": {
      "byteLimit": 2048000,
      "rowLimit": 10000
     },
     "inputWidgets": {},
     "nuid": "78aaeb96-3220-4129-b2d6-35009ee5d194",
     "showTitle": false,
     "tableResultSettingsMap": {},
     "title": ""
    }
   },
   "outputs": [],
   "source": [
    "class Customers:\n",
    "    def __init__(self,name):\n",
    "        self.name = name\n",
    "\n",
    "c1 = Customers(\"John\")\n",
    "c2 = Customers(\"Mary\")\n",
    "print(c1.name)\n",
    "print(c2.name)        "
   ]
  },
  {
   "cell_type": "code",
   "execution_count": 0,
   "metadata": {
    "application/vnd.databricks.v1+cell": {
     "cellMetadata": {
      "byteLimit": 2048000,
      "rowLimit": 10000
     },
     "inputWidgets": {},
     "nuid": "6e5d5f06-e073-4e1a-b079-2e38ebe895b0",
     "showTitle": false,
     "tableResultSettingsMap": {},
     "title": ""
    }
   },
   "outputs": [],
   "source": [
    "\n",
    "#Build a pipelineStep class\n",
    "class PipelineStep:\n",
    "    def __init__(self, step_name):\n",
    "        self.step_name = step_name\n",
    "    def execute(self):\n",
    "        print(\"Executing step: \" + self.step_name)\n",
    "\n",
    "ingest = PipelineStep(\"Ingest\")\n",
    "transform = PipelineStep(\"Transform\")\n",
    "load = PipelineStep(\"Load\") \n",
    "\n",
    "ingest.execute()\n",
    "transform.execute()\n",
    "load.execute()\n"
   ]
  },
  {
   "cell_type": "code",
   "execution_count": 0,
   "metadata": {
    "application/vnd.databricks.v1+cell": {
     "cellMetadata": {},
     "inputWidgets": {},
     "nuid": "7d352b33-b166-44bd-99fd-9e976b6d8ba3",
     "showTitle": false,
     "tableResultSettingsMap": {},
     "title": ""
    }
   },
   "outputs": [],
   "source": []
  },
  {
   "cell_type": "markdown",
   "metadata": {
    "application/vnd.databricks.v1+cell": {
     "cellMetadata": {},
     "inputWidgets": {},
     "nuid": "ad2f8b0b-be88-4564-af45-0b368cd8167c",
     "showTitle": false,
     "tableResultSettingsMap": {},
     "title": ""
    }
   },
   "source": [
    "Ecapsulation - Protect Internal Logic"
   ]
  },
  {
   "cell_type": "code",
   "execution_count": 0,
   "metadata": {
    "application/vnd.databricks.v1+cell": {
     "cellMetadata": {
      "byteLimit": 2048000,
      "rowLimit": 10000
     },
     "inputWidgets": {},
     "nuid": "bf49c029-f417-447d-9d8b-ab5bdc4bbd0b",
     "showTitle": false,
     "tableResultSettingsMap": {},
     "title": ""
    }
   },
   "outputs": [],
   "source": [
    "class DatabaseConnector:\n",
    "    def __init__(self):\n",
    "        self.credentials = \"user: pass@1234\"\n",
    "\n",
    "    def connect(self):\n",
    "        print(\"Connectiong using dbcred\")\n",
    "        return \"DB Connection established\"\n",
    "    \n",
    "db = DatabaseConnector()\n",
    "print(db.connect())"
   ]
  },
  {
   "cell_type": "markdown",
   "metadata": {
    "application/vnd.databricks.v1+cell": {
     "cellMetadata": {},
     "inputWidgets": {},
     "nuid": "36aa3a97-1f27-4109-b672-f6eaf73658ed",
     "showTitle": false,
     "tableResultSettingsMap": {},
     "title": ""
    }
   },
   "source": [
    "Inheritance - Resuse code "
   ]
  },
  {
   "cell_type": "code",
   "execution_count": 0,
   "metadata": {
    "application/vnd.databricks.v1+cell": {
     "cellMetadata": {
      "byteLimit": 2048000,
      "rowLimit": 10000
     },
     "inputWidgets": {},
     "nuid": "8d53b3fd-3a43-4ddd-8423-2344becf5618",
     "showTitle": false,
     "tableResultSettingsMap": {},
     "title": ""
    }
   },
   "outputs": [],
   "source": [
    "class Reader:\n",
    "    def read(self):\n",
    "        return \"reading in Base class Reader\"\n",
    "\n",
    "\n",
    "class CSVReader(Reader):\n",
    "    def read(self):\n",
    "        return\"reading in CSVReader\"\n",
    "\n",
    "class JSONReader(Reader):\n",
    "    def read(self):\n",
    "        return \"reading in JSONReader\"\n",
    "\n",
    "print(CSVReader().read())\n",
    "print(JSONReader().read())\n"
   ]
  },
  {
   "cell_type": "markdown",
   "metadata": {
    "application/vnd.databricks.v1+cell": {
     "cellMetadata": {},
     "inputWidgets": {},
     "nuid": "2ab839a7-b9f5-4a53-b59a-f16a39fb711f",
     "showTitle": false,
     "tableResultSettingsMap": {},
     "title": ""
    }
   },
   "source": [
    "Polymorphism - Same Interface, Different Behavior "
   ]
  },
  {
   "cell_type": "code",
   "execution_count": 0,
   "metadata": {
    "application/vnd.databricks.v1+cell": {
     "cellMetadata": {
      "byteLimit": 2048000,
      "rowLimit": 10000
     },
     "inputWidgets": {},
     "nuid": "5ad29524-6cdf-4055-b3ef-ed6382b6df09",
     "showTitle": false,
     "tableResultSettingsMap": {},
     "title": ""
    }
   },
   "outputs": [],
   "source": [
    "def run_reader(reader):\n",
    "    return reader.read()\n",
    "  \n",
    "print(run_reader(CSVReader()))\n",
    "print(run_reader(JSONReader()))"
   ]
  },
  {
   "cell_type": "markdown",
   "metadata": {
    "application/vnd.databricks.v1+cell": {
     "cellMetadata": {},
     "inputWidgets": {},
     "nuid": "efe35a92-5c5e-4932-851f-bd77c90d701e",
     "showTitle": false,
     "tableResultSettingsMap": {},
     "title": ""
    }
   },
   "source": [
    "Abstraction - Enforce Structure Across Team"
   ]
  },
  {
   "cell_type": "code",
   "execution_count": 0,
   "metadata": {
    "application/vnd.databricks.v1+cell": {
     "cellMetadata": {
      "byteLimit": 2048000,
      "rowLimit": 10000
     },
     "inputWidgets": {},
     "nuid": "d3e71647-23ba-4b29-a4ba-f93331e262c6",
     "showTitle": false,
     "tableResultSettingsMap": {},
     "title": ""
    }
   },
   "outputs": [],
   "source": [
    "#Need some clarifications\n",
    "from abc import ABC, abstractclassmethod\n",
    "\n",
    "class Ingestor(ABC):\n",
    "    @abstractclassmethod\n",
    "    def read(self):\n",
    "        pass\n",
    "\n",
    "class CSVIngestor(Ingestor):\n",
    "    def run(self):\n",
    "        return \"reading in CSVIngestor\"\n",
    "    \n",
    "\n",
    "    print(CSVIngestor().run())\n"
   ]
  }
 ],
 "metadata": {
  "application/vnd.databricks.v1+notebook": {
   "computePreferences": null,
   "dashboards": [],
   "environmentMetadata": {
    "base_environment": "",
    "environment_version": "2"
   },
   "inputWidgetPreferences": null,
   "language": "python",
   "notebookMetadata": {
    "pythonIndentUnit": 4
   },
   "notebookName": "OOP_Python",
   "widgets": {}
  },
  "language_info": {
   "name": "python"
  }
 },
 "nbformat": 4,
 "nbformat_minor": 0
}
